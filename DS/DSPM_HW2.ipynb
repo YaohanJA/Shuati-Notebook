{
 "cells": [
  {
   "cell_type": "code",
   "execution_count": 3,
   "metadata": {},
   "outputs": [],
   "source": [
    "import pandas as pd\n",
    "data = pd.read_csv('analytic_data2019.csv',header=1)\n",
    "data.head()\n",
    "#data.shape  #(3194, 534)\n",
    "data1 = data.copy()\n"
   ]
  },
  {
   "cell_type": "code",
   "execution_count": 64,
   "metadata": {},
   "outputs": [],
   "source": [
    "data0 = pd.read_csv('analytic_data2019.csv',header=0)"
   ]
  },
  {
   "cell_type": "markdown",
   "metadata": {},
   "source": [
    "1) What steps did you use for exploratory data analysis and subsequent data preparation on this data set? This should address summary statistics and handling of missing data and outliers (3 points)   \n",
    "\n",
    "2) Are there any noteworthy groupings of counties that have similar health outcomes and behaviors? You should use an unsupervised learning technique like clustering and show how you decided on the number of clusters. (4 points) \n",
    "\n",
    "3) What are the five most important factors predicting premature death as shown by this data? In this data set premature death is defined as the number of years of potential life lost before age 75 per 100,000 population. Develop two models (using different supervised learning approaches) to answer this question. Which of the two models do you believe is more accurate and how can you tell? Where would you focus public health efforts to reduce premature deaths in Allegheny County? (7 points)   \n",
    "\n",
    "4) Visualize the clusters you determined in #2 on a map of the US. (1 point extra credit)"
   ]
  },
  {
   "cell_type": "code",
   "execution_count": 4,
   "metadata": {},
   "outputs": [],
   "source": [
    "# Can the US be segmented by health and healthy behavior?\n",
    "'''\n",
    " • 3 county identification fields (FIPS, State, County)\n",
    "\n",
    "'''\n",
    "data1.dropna(how='all',axis =1,inplace = True)\n",
    "data1 = data1[data1.state != 'US'] #data.state.nunique() = 52 remove this column # shape = (3193, 381)"
   ]
  },
  {
   "cell_type": "code",
   "execution_count": 3,
   "metadata": {},
   "outputs": [
    {
     "data": {
      "text/html": [
       "<div>\n",
       "<style scoped>\n",
       "    .dataframe tbody tr th:only-of-type {\n",
       "        vertical-align: middle;\n",
       "    }\n",
       "\n",
       "    .dataframe tbody tr th {\n",
       "        vertical-align: top;\n",
       "    }\n",
       "\n",
       "    .dataframe thead th {\n",
       "        text-align: right;\n",
       "    }\n",
       "</style>\n",
       "<table border=\"1\" class=\"dataframe\">\n",
       "  <thead>\n",
       "    <tr style=\"text-align: right;\">\n",
       "      <th></th>\n",
       "      <th>count</th>\n",
       "      <th>mean</th>\n",
       "      <th>std</th>\n",
       "      <th>min</th>\n",
       "      <th>25%</th>\n",
       "      <th>50%</th>\n",
       "      <th>75%</th>\n",
       "      <th>max</th>\n",
       "    </tr>\n",
       "  </thead>\n",
       "  <tbody>\n",
       "    <tr>\n",
       "      <th>statecode</th>\n",
       "      <td>3193.0</td>\n",
       "      <td>30.259004</td>\n",
       "      <td>15.153897</td>\n",
       "      <td>1.0</td>\n",
       "      <td>18.0</td>\n",
       "      <td>29.0</td>\n",
       "      <td>45.0</td>\n",
       "      <td>56.0</td>\n",
       "    </tr>\n",
       "    <tr>\n",
       "      <th>countycode</th>\n",
       "      <td>3193.0</td>\n",
       "      <td>101.918572</td>\n",
       "      <td>107.626583</td>\n",
       "      <td>0.0</td>\n",
       "      <td>33.0</td>\n",
       "      <td>77.0</td>\n",
       "      <td>133.0</td>\n",
       "      <td>840.0</td>\n",
       "    </tr>\n",
       "    <tr>\n",
       "      <th>fipscode</th>\n",
       "      <td>3193.0</td>\n",
       "      <td>30360.922643</td>\n",
       "      <td>15171.912105</td>\n",
       "      <td>1000.0</td>\n",
       "      <td>18173.0</td>\n",
       "      <td>29175.0</td>\n",
       "      <td>45075.0</td>\n",
       "      <td>56045.0</td>\n",
       "    </tr>\n",
       "    <tr>\n",
       "      <th>year</th>\n",
       "      <td>3193.0</td>\n",
       "      <td>2019.000000</td>\n",
       "      <td>0.000000</td>\n",
       "      <td>2019.0</td>\n",
       "      <td>2019.0</td>\n",
       "      <td>2019.0</td>\n",
       "      <td>2019.0</td>\n",
       "      <td>2019.0</td>\n",
       "    </tr>\n",
       "    <tr>\n",
       "      <th>county_ranked</th>\n",
       "      <td>3142.0</td>\n",
       "      <td>0.980586</td>\n",
       "      <td>0.137998</td>\n",
       "      <td>0.0</td>\n",
       "      <td>1.0</td>\n",
       "      <td>1.0</td>\n",
       "      <td>1.0</td>\n",
       "      <td>1.0</td>\n",
       "    </tr>\n",
       "  </tbody>\n",
       "</table>\n",
       "</div>"
      ],
      "text/plain": [
       "                count          mean           std     min      25%      50%  \\\n",
       "statecode      3193.0     30.259004     15.153897     1.0     18.0     29.0   \n",
       "countycode     3193.0    101.918572    107.626583     0.0     33.0     77.0   \n",
       "fipscode       3193.0  30360.922643  15171.912105  1000.0  18173.0  29175.0   \n",
       "year           3193.0   2019.000000      0.000000  2019.0   2019.0   2019.0   \n",
       "county_ranked  3142.0      0.980586      0.137998     0.0      1.0      1.0   \n",
       "\n",
       "                   75%      max  \n",
       "statecode         45.0     56.0  \n",
       "countycode       133.0    840.0  \n",
       "fipscode       45075.0  56045.0  \n",
       "year            2019.0   2019.0  \n",
       "county_ranked      1.0      1.0  "
      ]
     },
     "execution_count": 3,
     "metadata": {},
     "output_type": "execute_result"
    }
   ],
   "source": [
    "data_des = data1.describe().T\n",
    "data_des.sort_values(by='count')\n",
    "data_des.head()"
   ]
  },
  {
   "cell_type": "code",
   "execution_count": 18,
   "metadata": {},
   "outputs": [],
   "source": [
    "data_des1 = data3.describe().T\n",
    "data_des1 = data_des1.sort_values(by='count')\n",
    "data_des1"
   ]
  },
  {
   "cell_type": "code",
   "execution_count": 59,
   "metadata": {},
   "outputs": [
    {
     "data": {
      "text/html": [
       "<div>\n",
       "<style scoped>\n",
       "    .dataframe tbody tr th:only-of-type {\n",
       "        vertical-align: middle;\n",
       "    }\n",
       "\n",
       "    .dataframe tbody tr th {\n",
       "        vertical-align: top;\n",
       "    }\n",
       "\n",
       "    .dataframe thead th {\n",
       "        text-align: right;\n",
       "    }\n",
       "</style>\n",
       "<table border=\"1\" class=\"dataframe\">\n",
       "  <thead>\n",
       "    <tr style=\"text-align: right;\">\n",
       "      <th></th>\n",
       "      <th>count</th>\n",
       "      <th>mean</th>\n",
       "      <th>std</th>\n",
       "      <th>min</th>\n",
       "      <th>25%</th>\n",
       "      <th>50%</th>\n",
       "      <th>75%</th>\n",
       "      <th>max</th>\n",
       "      <th>NA</th>\n",
       "      <th>lower</th>\n",
       "      <th>upper</th>\n",
       "    </tr>\n",
       "  </thead>\n",
       "  <tbody>\n",
       "    <tr>\n",
       "      <th>v148_rawvalue</th>\n",
       "      <td>2260.0</td>\n",
       "      <td>15.104071</td>\n",
       "      <td>6.855626</td>\n",
       "      <td>1.700000</td>\n",
       "      <td>10.500000</td>\n",
       "      <td>14.300000</td>\n",
       "      <td>18.525000</td>\n",
       "      <td>76.800000</td>\n",
       "      <td>933.0</td>\n",
       "      <td>-5.462808</td>\n",
       "      <td>-5.462808</td>\n",
       "    </tr>\n",
       "    <tr>\n",
       "      <th>v061_rawvalue</th>\n",
       "      <td>2475.0</td>\n",
       "      <td>190.820727</td>\n",
       "      <td>212.212314</td>\n",
       "      <td>10.400000</td>\n",
       "      <td>75.350000</td>\n",
       "      <td>123.700000</td>\n",
       "      <td>228.450000</td>\n",
       "      <td>2590.200000</td>\n",
       "      <td>718.0</td>\n",
       "      <td>-445.816213</td>\n",
       "      <td>-445.816213</td>\n",
       "    </tr>\n",
       "    <tr>\n",
       "      <th>v039_rawvalue</th>\n",
       "      <td>2751.0</td>\n",
       "      <td>18.842675</td>\n",
       "      <td>9.405352</td>\n",
       "      <td>2.806817</td>\n",
       "      <td>12.059569</td>\n",
       "      <td>17.204340</td>\n",
       "      <td>23.693887</td>\n",
       "      <td>92.161854</td>\n",
       "      <td>442.0</td>\n",
       "      <td>-9.373381</td>\n",
       "      <td>-9.373381</td>\n",
       "    </tr>\n",
       "    <tr>\n",
       "      <th>v142_rawvalue</th>\n",
       "      <td>2846.0</td>\n",
       "      <td>31.283471</td>\n",
       "      <td>13.264367</td>\n",
       "      <td>0.045076</td>\n",
       "      <td>22.392659</td>\n",
       "      <td>30.618955</td>\n",
       "      <td>39.545160</td>\n",
       "      <td>91.099085</td>\n",
       "      <td>347.0</td>\n",
       "      <td>-8.509629</td>\n",
       "      <td>-8.509629</td>\n",
       "    </tr>\n",
       "    <tr>\n",
       "      <th>v062_rawvalue</th>\n",
       "      <td>2941.0</td>\n",
       "      <td>0.001517</td>\n",
       "      <td>0.001608</td>\n",
       "      <td>0.000000</td>\n",
       "      <td>0.000453</td>\n",
       "      <td>0.001051</td>\n",
       "      <td>0.002047</td>\n",
       "      <td>0.020027</td>\n",
       "      <td>252.0</td>\n",
       "      <td>-0.003308</td>\n",
       "      <td>-0.003308</td>\n",
       "    </tr>\n",
       "  </tbody>\n",
       "</table>\n",
       "</div>"
      ],
      "text/plain": [
       "                count        mean         std        min        25%  \\\n",
       "v148_rawvalue  2260.0   15.104071    6.855626   1.700000  10.500000   \n",
       "v061_rawvalue  2475.0  190.820727  212.212314  10.400000  75.350000   \n",
       "v039_rawvalue  2751.0   18.842675    9.405352   2.806817  12.059569   \n",
       "v142_rawvalue  2846.0   31.283471   13.264367   0.045076  22.392659   \n",
       "v062_rawvalue  2941.0    0.001517    0.001608   0.000000   0.000453   \n",
       "\n",
       "                      50%         75%          max     NA       lower  \\\n",
       "v148_rawvalue   14.300000   18.525000    76.800000  933.0   -5.462808   \n",
       "v061_rawvalue  123.700000  228.450000  2590.200000  718.0 -445.816213   \n",
       "v039_rawvalue   17.204340   23.693887    92.161854  442.0   -9.373381   \n",
       "v142_rawvalue   30.618955   39.545160    91.099085  347.0   -8.509629   \n",
       "v062_rawvalue    0.001051    0.002047     0.020027  252.0   -0.003308   \n",
       "\n",
       "                    upper  \n",
       "v148_rawvalue   -5.462808  \n",
       "v061_rawvalue -445.816213  \n",
       "v039_rawvalue   -9.373381  \n",
       "v142_rawvalue   -8.509629  \n",
       "v062_rawvalue   -0.003308  "
      ]
     },
     "execution_count": 59,
     "metadata": {},
     "output_type": "execute_result"
    }
   ],
   "source": [
    "data_des1[\"NA\"] = data3.shape[0] - data_des1[\"count\"]\n",
    "data_des1[\"lower\"] = data_des1[\"mean\"] -data_des1[\"std\"]*3\n",
    "data_des1[\"upper\"] = data_des1[\"mean\"] -data_des1[\"std\"]*3\n",
    "\n",
    "data_des1.head()"
   ]
  },
  {
   "cell_type": "code",
   "execution_count": null,
   "metadata": {},
   "outputs": [],
   "source": [
    "data3 = data3.astype(\"long\")"
   ]
  },
  {
   "cell_type": "code",
   "execution_count": 41,
   "metadata": {},
   "outputs": [],
   "source": [
    "# from scipy.stats import zscore\n",
    "# data3= data3.mask(~data3.apply(lambda x: zscore(x) < 3, axis=1)) \n"
   ]
  },
  {
   "cell_type": "code",
   "execution_count": 26,
   "metadata": {},
   "outputs": [],
   "source": [
    "def replace(group, stds):\n",
    "    group[np.abs(group - group.mean()) > 3 *stds * group.std()] = np.mean\n",
    "    return group"
   ]
  },
  {
   "cell_type": "code",
   "execution_count": null,
   "metadata": {},
   "outputs": [],
   "source": [
    "data3 = data3.astype(\"long\")"
   ]
  },
  {
   "cell_type": "code",
   "execution_count": 35,
   "metadata": {},
   "outputs": [],
   "source": [
    "# data3.mask(lambda x :(x-x.mean()).abs()>(3*x.std()) )\n"
   ]
  },
  {
   "cell_type": "code",
   "execution_count": 36,
   "metadata": {},
   "outputs": [],
   "source": [
    "df = data3\n",
    "Q1 = df.quantile(0.25)\n",
    "Q3 = df.quantile(0.75)\n",
    "IQR = Q3 - Q1\n"
   ]
  },
  {
   "cell_type": "code",
   "execution_count": 53,
   "metadata": {},
   "outputs": [],
   "source": [
    "# ((df < (Q1 - 1.5 * IQR)) | (df > (Q3 + 1.5 * IQR))).sum()\n",
    "\n",
    "df1 = df[[\"v001_rawvalue\",\"v002_rawvalue\"]]"
   ]
  },
  {
   "cell_type": "code",
   "execution_count": 51,
   "metadata": {},
   "outputs": [],
   "source": [
    "import pandas as pd   # to manipulate dataframes\n",
    "import numpy as np   # to manipulate arrays\n",
    "\n",
    "# a number \"a\" from the vector \"x\" is an outlier if \n",
    "# a > median(x)+1.5*iqr(x) or a < median-1.5*iqr(x)\n",
    "# iqr: interquantile range = third interquantile - first interquantile\n",
    "def outliers(x): \n",
    "    return np.abs(x- x.median()) > 1.5*(x.quantile(.75)-x.quantile(0.25))\n",
    "    \n",
    "def replace(x):   # x is a vector\n",
    "    out = x[outliers(x)]\n",
    "    return x.replace(to_replace = [out.min(),out.max()], \n",
    "                value = [np.percentile(x,5),np.percentile(x,95)])    "
   ]
  },
  {
   "cell_type": "code",
   "execution_count": 55,
   "metadata": {},
   "outputs": [],
   "source": [
    "df2 = df1.apply(replace,axis=1)\n"
   ]
  },
  {
   "cell_type": "code",
   "execution_count": 58,
   "metadata": {},
   "outputs": [
    {
     "data": {
      "text/plain": [
       "(3193, 2)"
      ]
     },
     "execution_count": 58,
     "metadata": {},
     "output_type": "execute_result"
    }
   ],
   "source": [
    "def outliers(x): \n",
    "    return np.abs(x- x.median()) > 1.5*(x.quantile(.75)-x.quantile(0.25))\n",
    "    \n",
    "def replace(x):   # x is a vector\n",
    "    out = x[outliers(x)]\n",
    "    return x.replace(to_replace = [out.min(),out.max()], \n",
    "                value = [np.percentile(x,5),np.percentile(x,95)]) "
   ]
  },
  {
   "cell_type": "code",
   "execution_count": null,
   "metadata": {},
   "outputs": [],
   "source": []
  },
  {
   "cell_type": "code",
   "execution_count": null,
   "metadata": {},
   "outputs": [],
   "source": []
  },
  {
   "cell_type": "code",
   "execution_count": null,
   "metadata": {},
   "outputs": [],
   "source": []
  },
  {
   "cell_type": "code",
   "execution_count": 5,
   "metadata": {},
   "outputs": [
    {
     "data": {
      "text/plain": [
       "(3193, 105)"
      ]
     },
     "execution_count": 5,
     "metadata": {},
     "output_type": "execute_result"
    }
   ],
   "source": [
    "data2 = data1.filter(regex=(\"v[0-9][0-9][0-9]_rawvalue\"))\n",
    "data2.shape #(3193, 105)"
   ]
  },
  {
   "cell_type": "code",
   "execution_count": 6,
   "metadata": {},
   "outputs": [],
   "source": [
    "cutoff = data.shape[0]*0.7\n",
    "data3 = data2.dropna(thresh= cutoff, axis=1) #(3193, 66)\n"
   ]
  },
  {
   "cell_type": "code",
   "execution_count": 16,
   "metadata": {},
   "outputs": [],
   "source": [
    "# data_des1 = data3.describe().T\n",
    "# data_des1.sort_values(by='count')\n",
    "\n",
    "# from scipy import stats\n",
    "# df[(np.abs(stats.zscore(df)) < 3).all(axis=1)]"
   ]
  },
  {
   "cell_type": "code",
   "execution_count": null,
   "metadata": {},
   "outputs": [],
   "source": [
    "# %matplotlib inline  \n",
    "# import matplotlib.pyplot as plt\n",
    "# data3.hist(bins=50, figsize=(20,15))\n"
   ]
  },
  {
   "cell_type": "code",
   "execution_count": 45,
   "metadata": {},
   "outputs": [
    {
     "data": {
      "text/html": [
       "<div>\n",
       "<style scoped>\n",
       "    .dataframe tbody tr th:only-of-type {\n",
       "        vertical-align: middle;\n",
       "    }\n",
       "\n",
       "    .dataframe tbody tr th {\n",
       "        vertical-align: top;\n",
       "    }\n",
       "\n",
       "    .dataframe thead th {\n",
       "        text-align: right;\n",
       "    }\n",
       "</style>\n",
       "<table border=\"1\" class=\"dataframe\">\n",
       "  <thead>\n",
       "    <tr style=\"text-align: right;\">\n",
       "      <th></th>\n",
       "      <th>v001_rawvalue</th>\n",
       "      <th>v002_rawvalue</th>\n",
       "      <th>v036_rawvalue</th>\n",
       "      <th>v042_rawvalue</th>\n",
       "      <th>v037_rawvalue</th>\n",
       "      <th>v009_rawvalue</th>\n",
       "      <th>v011_rawvalue</th>\n",
       "      <th>v133_rawvalue</th>\n",
       "      <th>v070_rawvalue</th>\n",
       "      <th>v132_rawvalue</th>\n",
       "      <th>...</th>\n",
       "      <th>v053_rawvalue</th>\n",
       "      <th>v054_rawvalue</th>\n",
       "      <th>v055_rawvalue</th>\n",
       "      <th>v081_rawvalue</th>\n",
       "      <th>v080_rawvalue</th>\n",
       "      <th>v056_rawvalue</th>\n",
       "      <th>v126_rawvalue</th>\n",
       "      <th>v059_rawvalue</th>\n",
       "      <th>v057_rawvalue</th>\n",
       "      <th>v058_rawvalue</th>\n",
       "    </tr>\n",
       "  </thead>\n",
       "  <tbody>\n",
       "    <tr>\n",
       "      <th>1</th>\n",
       "      <td>9917.232898</td>\n",
       "      <td>0.214024</td>\n",
       "      <td>4.400458</td>\n",
       "      <td>4.577367</td>\n",
       "      <td>0.101455</td>\n",
       "      <td>0.215382</td>\n",
       "      <td>0.351</td>\n",
       "      <td>5.8</td>\n",
       "      <td>0.282</td>\n",
       "      <td>0.616496</td>\n",
       "      <td>...</td>\n",
       "      <td>0.164885</td>\n",
       "      <td>0.265209</td>\n",
       "      <td>0.006997</td>\n",
       "      <td>0.014634</td>\n",
       "      <td>0.001075</td>\n",
       "      <td>0.043296</td>\n",
       "      <td>0.655799</td>\n",
       "      <td>0.010748</td>\n",
       "      <td>0.515906</td>\n",
       "      <td>0.409632</td>\n",
       "    </tr>\n",
       "    <tr>\n",
       "      <th>2</th>\n",
       "      <td>8824.057123</td>\n",
       "      <td>0.184111</td>\n",
       "      <td>4.200578</td>\n",
       "      <td>4.306739</td>\n",
       "      <td>0.084757</td>\n",
       "      <td>0.191247</td>\n",
       "      <td>0.375</td>\n",
       "      <td>7.2</td>\n",
       "      <td>0.311</td>\n",
       "      <td>0.686775</td>\n",
       "      <td>...</td>\n",
       "      <td>0.151196</td>\n",
       "      <td>0.192545</td>\n",
       "      <td>0.004756</td>\n",
       "      <td>0.012792</td>\n",
       "      <td>0.001045</td>\n",
       "      <td>0.028575</td>\n",
       "      <td>0.744739</td>\n",
       "      <td>0.008285</td>\n",
       "      <td>0.513422</td>\n",
       "      <td>0.420022</td>\n",
       "    </tr>\n",
       "    <tr>\n",
       "      <th>3</th>\n",
       "      <td>7224.632160</td>\n",
       "      <td>0.180605</td>\n",
       "      <td>4.098748</td>\n",
       "      <td>4.249649</td>\n",
       "      <td>0.083387</td>\n",
       "      <td>0.167955</td>\n",
       "      <td>0.310</td>\n",
       "      <td>8.0</td>\n",
       "      <td>0.238</td>\n",
       "      <td>0.719710</td>\n",
       "      <td>...</td>\n",
       "      <td>0.199470</td>\n",
       "      <td>0.089532</td>\n",
       "      <td>0.007760</td>\n",
       "      <td>0.011565</td>\n",
       "      <td>0.000687</td>\n",
       "      <td>0.045502</td>\n",
       "      <td>0.830474</td>\n",
       "      <td>0.004545</td>\n",
       "      <td>0.514528</td>\n",
       "      <td>0.422791</td>\n",
       "    </tr>\n",
       "    <tr>\n",
       "      <th>4</th>\n",
       "      <td>9586.165037</td>\n",
       "      <td>0.257734</td>\n",
       "      <td>5.067438</td>\n",
       "      <td>4.634994</td>\n",
       "      <td>0.109526</td>\n",
       "      <td>0.215409</td>\n",
       "      <td>0.443</td>\n",
       "      <td>5.6</td>\n",
       "      <td>0.282</td>\n",
       "      <td>0.536257</td>\n",
       "      <td>...</td>\n",
       "      <td>0.188247</td>\n",
       "      <td>0.479422</td>\n",
       "      <td>0.006529</td>\n",
       "      <td>0.004630</td>\n",
       "      <td>0.001860</td>\n",
       "      <td>0.042066</td>\n",
       "      <td>0.459557</td>\n",
       "      <td>0.011993</td>\n",
       "      <td>0.472299</td>\n",
       "      <td>0.677896</td>\n",
       "    </tr>\n",
       "    <tr>\n",
       "      <th>5</th>\n",
       "      <td>11783.543675</td>\n",
       "      <td>0.199969</td>\n",
       "      <td>4.363377</td>\n",
       "      <td>4.315710</td>\n",
       "      <td>0.111050</td>\n",
       "      <td>0.199164</td>\n",
       "      <td>0.378</td>\n",
       "      <td>7.6</td>\n",
       "      <td>0.349</td>\n",
       "      <td>0.162514</td>\n",
       "      <td>...</td>\n",
       "      <td>0.160226</td>\n",
       "      <td>0.214576</td>\n",
       "      <td>0.004279</td>\n",
       "      <td>0.002206</td>\n",
       "      <td>0.001147</td>\n",
       "      <td>0.026381</td>\n",
       "      <td>0.742986</td>\n",
       "      <td>0.003943</td>\n",
       "      <td>0.464531</td>\n",
       "      <td>0.683526</td>\n",
       "    </tr>\n",
       "  </tbody>\n",
       "</table>\n",
       "<p>5 rows × 66 columns</p>\n",
       "</div>"
      ],
      "text/plain": [
       "   v001_rawvalue  v002_rawvalue  v036_rawvalue  v042_rawvalue  v037_rawvalue  \\\n",
       "1    9917.232898       0.214024       4.400458       4.577367       0.101455   \n",
       "2    8824.057123       0.184111       4.200578       4.306739       0.084757   \n",
       "3    7224.632160       0.180605       4.098748       4.249649       0.083387   \n",
       "4    9586.165037       0.257734       5.067438       4.634994       0.109526   \n",
       "5   11783.543675       0.199969       4.363377       4.315710       0.111050   \n",
       "\n",
       "   v009_rawvalue  v011_rawvalue  v133_rawvalue  v070_rawvalue  v132_rawvalue  \\\n",
       "1       0.215382          0.351            5.8          0.282       0.616496   \n",
       "2       0.191247          0.375            7.2          0.311       0.686775   \n",
       "3       0.167955          0.310            8.0          0.238       0.719710   \n",
       "4       0.215409          0.443            5.6          0.282       0.536257   \n",
       "5       0.199164          0.378            7.6          0.349       0.162514   \n",
       "\n",
       "       ...        v053_rawvalue  v054_rawvalue  v055_rawvalue  v081_rawvalue  \\\n",
       "1      ...             0.164885       0.265209       0.006997       0.014634   \n",
       "2      ...             0.151196       0.192545       0.004756       0.012792   \n",
       "3      ...             0.199470       0.089532       0.007760       0.011565   \n",
       "4      ...             0.188247       0.479422       0.006529       0.004630   \n",
       "5      ...             0.160226       0.214576       0.004279       0.002206   \n",
       "\n",
       "   v080_rawvalue  v056_rawvalue  v126_rawvalue  v059_rawvalue  v057_rawvalue  \\\n",
       "1       0.001075       0.043296       0.655799       0.010748       0.515906   \n",
       "2       0.001045       0.028575       0.744739       0.008285       0.513422   \n",
       "3       0.000687       0.045502       0.830474       0.004545       0.514528   \n",
       "4       0.001860       0.042066       0.459557       0.011993       0.472299   \n",
       "5       0.001147       0.026381       0.742986       0.003943       0.464531   \n",
       "\n",
       "   v058_rawvalue  \n",
       "1       0.409632  \n",
       "2       0.420022  \n",
       "3       0.422791  \n",
       "4       0.677896  \n",
       "5       0.683526  \n",
       "\n",
       "[5 rows x 66 columns]"
      ]
     },
     "execution_count": 45,
     "metadata": {},
     "output_type": "execute_result"
    }
   ],
   "source": [
    "data3.head()"
   ]
  },
  {
   "cell_type": "code",
   "execution_count": 12,
   "metadata": {},
   "outputs": [
    {
     "name": "stderr",
     "output_type": "stream",
     "text": [
      "/anaconda3/lib/python3.6/site-packages/ipykernel_launcher.py:5: RuntimeWarning: invalid value encountered in less\n",
      "  \"\"\"\n"
     ]
    },
    {
     "data": {
      "text/html": [
       "<div>\n",
       "<style scoped>\n",
       "    .dataframe tbody tr th:only-of-type {\n",
       "        vertical-align: middle;\n",
       "    }\n",
       "\n",
       "    .dataframe tbody tr th {\n",
       "        vertical-align: top;\n",
       "    }\n",
       "\n",
       "    .dataframe thead th {\n",
       "        text-align: right;\n",
       "    }\n",
       "</style>\n",
       "<table border=\"1\" class=\"dataframe\">\n",
       "  <thead>\n",
       "    <tr style=\"text-align: right;\">\n",
       "      <th></th>\n",
       "      <th>v001_rawvalue</th>\n",
       "      <th>v002_rawvalue</th>\n",
       "      <th>v036_rawvalue</th>\n",
       "      <th>v042_rawvalue</th>\n",
       "      <th>v037_rawvalue</th>\n",
       "      <th>v009_rawvalue</th>\n",
       "      <th>v011_rawvalue</th>\n",
       "      <th>v133_rawvalue</th>\n",
       "      <th>v070_rawvalue</th>\n",
       "      <th>v132_rawvalue</th>\n",
       "      <th>...</th>\n",
       "      <th>v053_rawvalue</th>\n",
       "      <th>v054_rawvalue</th>\n",
       "      <th>v055_rawvalue</th>\n",
       "      <th>v081_rawvalue</th>\n",
       "      <th>v080_rawvalue</th>\n",
       "      <th>v056_rawvalue</th>\n",
       "      <th>v126_rawvalue</th>\n",
       "      <th>v059_rawvalue</th>\n",
       "      <th>v057_rawvalue</th>\n",
       "      <th>v058_rawvalue</th>\n",
       "    </tr>\n",
       "  </thead>\n",
       "  <tbody>\n",
       "  </tbody>\n",
       "</table>\n",
       "<p>0 rows × 66 columns</p>\n",
       "</div>"
      ],
      "text/plain": [
       "Empty DataFrame\n",
       "Columns: [v001_rawvalue, v002_rawvalue, v036_rawvalue, v042_rawvalue, v037_rawvalue, v009_rawvalue, v011_rawvalue, v133_rawvalue, v070_rawvalue, v132_rawvalue, v049_rawvalue, v134_rawvalue, v045_rawvalue, v014_rawvalue, v085_rawvalue, v004_rawvalue, v088_rawvalue, v062_rawvalue, v005_rawvalue, v050_rawvalue, v155_rawvalue, v021_rawvalue, v069_rawvalue, v023_rawvalue, v024_rawvalue, v044_rawvalue, v082_rawvalue, v140_rawvalue, v043_rawvalue, v135_rawvalue, v125_rawvalue, v124_rawvalue, v136_rawvalue, v067_rawvalue, v137_rawvalue, v147_rawvalue, v127_rawvalue, v144_rawvalue, v145_rawvalue, v060_rawvalue, v061_rawvalue, v139_rawvalue, v083_rawvalue, v039_rawvalue, v143_rawvalue, v003_rawvalue, v122_rawvalue, v131_rawvalue, v063_rawvalue, v065_rawvalue, v142_rawvalue, v148_rawvalue, v153_rawvalue, v154_rawvalue, v051_rawvalue, v052_rawvalue, v053_rawvalue, v054_rawvalue, v055_rawvalue, v081_rawvalue, v080_rawvalue, v056_rawvalue, v126_rawvalue, v059_rawvalue, v057_rawvalue, v058_rawvalue]\n",
       "Index: []\n",
       "\n",
       "[0 rows x 66 columns]"
      ]
     },
     "execution_count": 12,
     "metadata": {},
     "output_type": "execute_result"
    }
   ],
   "source": [
    "import pandas as pd\n",
    "import numpy as np\n",
    "\n",
    "from scipy import stats\n",
    "# data3[(np.abs(stats.zscore(data3)) < 3).all(axis=1)]"
   ]
  },
  {
   "cell_type": "code",
   "execution_count": 15,
   "metadata": {},
   "outputs": [],
   "source": [
    "# data3[data3.apply(lambda x: np.abs(x - x.mean()) / x.std() < 3).all(axis=1)]\n"
   ]
  },
  {
   "cell_type": "code",
   "execution_count": null,
   "metadata": {},
   "outputs": [],
   "source": [
    "import pandas as pd   # to manipulate dataframes\n",
    "import numpy as np   # to manipulate arrays\n",
    "\n",
    "# a number \"a\" from the vector \"x\" is an outlier if \n",
    "# a > median(x)+1.5*iqr(x) or a < median-1.5*iqr(x)\n",
    "# iqr: interquantile range = third interquantile - first interquantile\n",
    "def outliers(x): \n",
    "    return np.abs(x- x.median()) > 1.5*(x.quantile(.75)-x.quantile(0.25))\n",
    "    \n",
    "def replace(x):   # x is a vector\n",
    "    out = x[outliers(x)]\n",
    "    return x.replace(to_replace = [out.min(),out.max()], \n",
    "                value = [np.percentile(x,50),np.percentile(x,50)]) "
   ]
  },
  {
   "cell_type": "code",
   "execution_count": null,
   "metadata": {},
   "outputs": [],
   "source": [
    "# find na index\n",
    "# index = df3['v001_rawvalue'].index[df3['v001_rawvalue'].apply(np.isnan)]\n",
    "# df_index = df3.index.values.tolist()\n",
    "# [df_index.index(i) for i in index]"
   ]
  },
  {
   "cell_type": "code",
   "execution_count": 2,
   "metadata": {},
   "outputs": [],
   "source": [
    "import sys"
   ]
  },
  {
   "cell_type": "code",
   "execution_count": 3,
   "metadata": {},
   "outputs": [
    {
     "data": {
      "text/plain": [
       "'/anaconda3/bin/python'"
      ]
     },
     "execution_count": 3,
     "metadata": {},
     "output_type": "execute_result"
    }
   ],
   "source": [
    "sys.executable"
   ]
  },
  {
   "cell_type": "code",
   "execution_count": 4,
   "metadata": {},
   "outputs": [
    {
     "data": {
      "text/plain": [
       "['',\n",
       " '/anaconda3/lib/python36.zip',\n",
       " '/anaconda3/lib/python3.6',\n",
       " '/anaconda3/lib/python3.6/lib-dynload',\n",
       " '/anaconda3/lib/python3.6/site-packages',\n",
       " '/anaconda3/lib/python3.6/site-packages/aeosa',\n",
       " '/anaconda3/lib/python3.6/site-packages/IPython/extensions',\n",
       " '/Users/yaohanjiang/.ipython']"
      ]
     },
     "execution_count": 4,
     "metadata": {},
     "output_type": "execute_result"
    }
   ],
   "source": [
    "sys.path"
   ]
  },
  {
   "cell_type": "code",
   "execution_count": 4,
   "metadata": {},
   "outputs": [
    {
     "ename": "SyntaxError",
     "evalue": "invalid syntax (<ipython-input-4-68dcfb427789>, line 1)",
     "output_type": "error",
     "traceback": [
      "\u001b[0;36m  File \u001b[0;32m\"<ipython-input-4-68dcfb427789>\"\u001b[0;36m, line \u001b[0;32m1\u001b[0m\n\u001b[0;31m    jupyter kernelspec list\u001b[0m\n\u001b[0m                     ^\u001b[0m\n\u001b[0;31mSyntaxError\u001b[0m\u001b[0;31m:\u001b[0m invalid syntax\n"
     ]
    }
   ],
   "source": [
    "jupyter kernelspec list\n",
    "\n",
    "/anaconda3/share/jupyter/kernels/python3"
   ]
  },
  {
   "cell_type": "code",
   "execution_count": 5,
   "metadata": {},
   "outputs": [
    {
     "ename": "SyntaxError",
     "evalue": "invalid syntax (<ipython-input-5-94372049b64a>, line 1)",
     "output_type": "error",
     "traceback": [
      "\u001b[0;36m  File \u001b[0;32m\"<ipython-input-5-94372049b64a>\"\u001b[0;36m, line \u001b[0;32m1\u001b[0m\n\u001b[0;31m    which jupyter\u001b[0m\n\u001b[0m                ^\u001b[0m\n\u001b[0;31mSyntaxError\u001b[0m\u001b[0;31m:\u001b[0m invalid syntax\n"
     ]
    }
   ],
   "source": [
    "which jupyter"
   ]
  },
  {
   "cell_type": "code",
   "execution_count": null,
   "metadata": {},
   "outputs": [],
   "source": []
  }
 ],
 "metadata": {
  "kernelspec": {
   "display_name": "Python 3",
   "language": "python",
   "name": "python3"
  },
  "language_info": {
   "codemirror_mode": {
    "name": "ipython",
    "version": 3
   },
   "file_extension": ".py",
   "mimetype": "text/x-python",
   "name": "python",
   "nbconvert_exporter": "python",
   "pygments_lexer": "ipython3",
   "version": "3.7.4"
  }
 },
 "nbformat": 4,
 "nbformat_minor": 2
}
