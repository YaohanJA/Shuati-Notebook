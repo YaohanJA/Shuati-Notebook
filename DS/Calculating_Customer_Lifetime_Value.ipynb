{
 "cells": [
  {
   "cell_type": "code",
   "execution_count": 3,
   "metadata": {},
   "outputs": [
    {
     "name": "stdout",
     "output_type": "stream",
     "text": [
      "======Step 1 Understand the dataset======\n",
      "------Step 1 Q1------\n",
      "There is no missing value in the dataset as shown below: \n",
      "Checking null value:\n",
      "TransactionID      0\n",
      "TransactionDate    0\n",
      "CustomerID         0\n",
      "Amount             0\n",
      "dtype: int64\n",
      "\n",
      "------Step 1 Q2------\n",
      "The smallest date: 1/1/2011\n",
      "The largest date: 9/9/2015\n",
      "\n",
      "------Step 1 Q3------\n",
      "The number of unique customers: 1000\n",
      "\n",
      "------Step 1 Q4------\n",
      "Standard descriptive statistics for the Amount: \n",
      "Min:      -1.0\n",
      "Max:      2033.0\n",
      "Variance: 1499.54\n",
      "Std:      38.72\n",
      "Sum:      37791.55\n",
      "\n",
      "------Step 1 Q5------\n",
      "Transaction amounts increase over time in general.\n",
      "\n"
     ]
    },
    {
     "data": {
      "image/png": "[encoded data removed]",
      "text/plain": [
       "<Figure size 432x288 with 1 Axes>"
      ]
     },
     "metadata": {
      "needs_background": "light"
     },
     "output_type": "display_data"
    }
   ],
   "source": [
    "import pandas as pd\n",
    "clv = pd.read_csv('HW1 clv_transactions.csv',header=0)\n",
    "print(\"======Step 1 Understand the dataset======\")\n",
    "#1. Are there any missing values in the dataset?\n",
    "print(\"------Step 1 Q1------\")\n",
    "print(\"There is no missing value in the dataset as shown below: \")\n",
    "print(\"Checking null value:\")\n",
    "print(clv.isnull().sum())\n",
    "print()\n",
    "#2, What is the range of dates in the dataset?\n",
    "print(\"------Step 1 Q2------\")\n",
    "print(\"The smallest date: \" + clv[\"TransactionDate\"].min() +\"\\nThe largest date: \"+clv[\"TransactionDate\"].max())\n",
    "print()\n",
    "# 3. How many unique customers are there in the dataset?\n",
    "print(\"------Step 1 Q3------\")\n",
    "print(\"The number of unique customers: \" + str(clv[\"CustomerID\"].nunique()))\n",
    "print()\n",
    "# 4, Profile the data to give the standard descriptive statistics for the Amount field. \n",
    "# What is the min, max, variance, and standard deviations?\n",
    "print(\"------Step 1 Q4------\")\n",
    "print(\"Standard descriptive statistics for the Amount: \")\n",
    "print('Min:      ' + str(clv[\"Amount\"].min().round(2)))\n",
    "print('Max:      ' + str( clv[\"Amount\"].max().round(2)))\n",
    "print('Variance: ' + str(clv[\"Amount\"].var().round(2)))\n",
    "print('Std:      ' + str(clv[\"Amount\"].std().round(2)))\n",
    "print('Sum:      ' + str(clv[\"Amount\"].sum().round(2)))\n",
    "print()\n",
    "#5. Do transaction amounts in general increase over time (perhaps due to inflation)?\n",
    "print(\"------Step 1 Q5------\")\n",
    "print(\"Transaction amounts increase over time in general.\")\n",
    "clv1 = clv.copy()\n",
    "clv1['TransactionDate'] = pd.to_datetime(clv1['TransactionDate'])\n",
    "x = clv1.groupby('TransactionDate')[['Amount']].sum()\n",
    "z= x.groupby([x.index.year])[['Amount']].sum()\n",
    "z.plot()\n",
    "print()"
   ]
  },
  {
   "cell_type": "code",
   "execution_count": 4,
   "metadata": {},
   "outputs": [
    {
     "name": "stdout",
     "output_type": "stream",
     "text": [
      "======Step 2 Explore the dataset======\n",
      "------Step 2 Q1------\n",
      "There are outlier for \"Amount\":\n",
      " -Large outliers :2 outliers around 1000 and 1 outlier around 2000.\n",
      " -Small outliers: 2 outliers less than 0.\n",
      "\n",
      "49     -1.0\n",
      "3326   -1.0\n",
      "Name: Amount, dtype: float64\n"
     ]
    },
    {
     "data": {
      "text/plain": [
       "<matplotlib.axes._subplots.AxesSubplot at 0x12170ceb8>"
      ]
     },
     "execution_count": 4,
     "metadata": {},
     "output_type": "execute_result"
    },
    {
     "data": {
      "image/png": "[encoded data removed]",
      "text/plain": [
       "<Figure size 432x288 with 1 Axes>"
      ]
     },
     "metadata": {
      "needs_background": "light"
     },
     "output_type": "display_data"
    }
   ],
   "source": [
    "import matplotlib.pyplot as plt\n",
    "\n",
    "#1. Are there any outliers?\n",
    "print(\"======Step 2 Explore the dataset======\")\n",
    "print(\"------Step 2 Q1------\")\n",
    "print(\"There are outlier for \\\"Amount\\\":\\n -Large outliers :2 outliers around 1000 and 1 outlier around 2000.\")\n",
    "print(\" -Small outliers: 2 outliers less than 0.\")\n",
    "print()\n",
    "print(str(clv[clv['Amount'] < 0]['Amount']))\n",
    "import seaborn as sns\n",
    "sns.boxplot(clv['Amount'])"
   ]
  },
  {
   "cell_type": "code",
   "execution_count": 5,
   "metadata": {},
   "outputs": [
    {
     "name": "stdout",
     "output_type": "stream",
     "text": [
      "------Step 2 Q2------\n",
      "I would replace the outliers with median or mean of \"Amount\", here I replaced 5 outliers with median value \n",
      "giving that median value is less sensitive to outliers. \n",
      "\n",
      "The new standard descriptive statics is as follows:\n"
     ]
    },
    {
     "data": {
      "text/html": [
       "<div>\n",
       "<style scoped>\n",
       "    .dataframe tbody tr th:only-of-type {\n",
       "        vertical-align: middle;\n",
       "    }\n",
       "\n",
       "    .dataframe tbody tr th {\n",
       "        vertical-align: top;\n",
       "    }\n",
       "\n",
       "    .dataframe thead th {\n",
       "        text-align: right;\n",
       "    }\n",
       "</style>\n",
       "<table border=\"1\" class=\"dataframe\">\n",
       "  <thead>\n",
       "    <tr style=\"text-align: right;\">\n",
       "      <th></th>\n",
       "      <th>Amount</th>\n",
       "    </tr>\n",
       "  </thead>\n",
       "  <tbody>\n",
       "    <tr>\n",
       "      <th>count</th>\n",
       "      <td>4186.000000</td>\n",
       "    </tr>\n",
       "    <tr>\n",
       "      <th>mean</th>\n",
       "      <td>8.066167</td>\n",
       "    </tr>\n",
       "    <tr>\n",
       "      <th>std</th>\n",
       "      <td>6.003162</td>\n",
       "    </tr>\n",
       "    <tr>\n",
       "      <th>min</th>\n",
       "      <td>0.010000</td>\n",
       "    </tr>\n",
       "    <tr>\n",
       "      <th>25%</th>\n",
       "      <td>3.320000</td>\n",
       "    </tr>\n",
       "    <tr>\n",
       "      <th>50%</th>\n",
       "      <td>6.885000</td>\n",
       "    </tr>\n",
       "    <tr>\n",
       "      <th>75%</th>\n",
       "      <td>11.660000</td>\n",
       "    </tr>\n",
       "    <tr>\n",
       "      <th>max</th>\n",
       "      <td>38.350000</td>\n",
       "    </tr>\n",
       "  </tbody>\n",
       "</table>\n",
       "</div>"
      ],
      "text/plain": [
       "            Amount\n",
       "count  4186.000000\n",
       "mean      8.066167\n",
       "std       6.003162\n",
       "min       0.010000\n",
       "25%       3.320000\n",
       "50%       6.885000\n",
       "75%      11.660000\n",
       "max      38.350000"
      ]
     },
     "execution_count": 5,
     "metadata": {},
     "output_type": "execute_result"
    }
   ],
   "source": [
    "#2 If so how would you treat them?\n",
    "print(\"------Step 2 Q2------\")\n",
    "print(\"I would replace the outliers with median or mean of \\\"Amount\\\", here I replaced 5 outliers with median value \\ngiving that median value is less sensitive to outliers. \")\n",
    "median = float(clv['Amount'].median())\n",
    "clv[clv['Amount'] > 250] = median\n",
    "clv[clv['Amount'] < 0] = median\n",
    "print()\n",
    "print(\"The new standard descriptive statics is as follows:\")\n",
    "clv[['Amount']].describe()"
   ]
  },
  {
   "cell_type": "code",
   "execution_count": 6,
   "metadata": {},
   "outputs": [
    {
     "name": "stdout",
     "output_type": "stream",
     "text": [
      "======Step 3 Determine origin year of customers======\n",
      "The origin year of customer can be achieved by \"grouping by\" and ranking customerID and TransactionDate.\n"
     ]
    },
    {
     "data": {
      "text/html": [
       "<div>\n",
       "<style scoped>\n",
       "    .dataframe tbody tr th:only-of-type {\n",
       "        vertical-align: middle;\n",
       "    }\n",
       "\n",
       "    .dataframe tbody tr th {\n",
       "        vertical-align: top;\n",
       "    }\n",
       "\n",
       "    .dataframe thead th {\n",
       "        text-align: right;\n",
       "    }\n",
       "</style>\n",
       "<table border=\"1\" class=\"dataframe\">\n",
       "  <thead>\n",
       "    <tr style=\"text-align: right;\">\n",
       "      <th></th>\n",
       "      <th>TransactionID</th>\n",
       "      <th>TransactionDate</th>\n",
       "      <th>CustomerID</th>\n",
       "      <th>Amount</th>\n",
       "      <th>Origin_year</th>\n",
       "    </tr>\n",
       "  </thead>\n",
       "  <tbody>\n",
       "    <tr>\n",
       "      <th>0</th>\n",
       "      <td>1.0</td>\n",
       "      <td>9/4/2012</td>\n",
       "      <td>1.0</td>\n",
       "      <td>20.26</td>\n",
       "      <td>2012</td>\n",
       "    </tr>\n",
       "    <tr>\n",
       "      <th>1</th>\n",
       "      <td>2.0</td>\n",
       "      <td>5/15/2012</td>\n",
       "      <td>2.0</td>\n",
       "      <td>10.87</td>\n",
       "      <td>2012</td>\n",
       "    </tr>\n",
       "    <tr>\n",
       "      <th>2</th>\n",
       "      <td>3.0</td>\n",
       "      <td>5/23/2014</td>\n",
       "      <td>2.0</td>\n",
       "      <td>2.21</td>\n",
       "      <td>2012</td>\n",
       "    </tr>\n",
       "    <tr>\n",
       "      <th>3</th>\n",
       "      <td>4.0</td>\n",
       "      <td>10/24/2014</td>\n",
       "      <td>2.0</td>\n",
       "      <td>10.48</td>\n",
       "      <td>2012</td>\n",
       "    </tr>\n",
       "    <tr>\n",
       "      <th>4</th>\n",
       "      <td>5.0</td>\n",
       "      <td>10/13/2012</td>\n",
       "      <td>2.0</td>\n",
       "      <td>3.94</td>\n",
       "      <td>2012</td>\n",
       "    </tr>\n",
       "  </tbody>\n",
       "</table>\n",
       "</div>"
      ],
      "text/plain": [
       "   TransactionID TransactionDate  CustomerID  Amount  Origin_year\n",
       "0            1.0        9/4/2012         1.0   20.26         2012\n",
       "1            2.0       5/15/2012         2.0   10.87         2012\n",
       "2            3.0       5/23/2014         2.0    2.21         2012\n",
       "3            4.0      10/24/2014         2.0   10.48         2012\n",
       "4            5.0      10/13/2012         2.0    3.94         2012"
      ]
     },
     "execution_count": 6,
     "metadata": {},
     "output_type": "execute_result"
    }
   ],
   "source": [
    "print(\"======Step 3 Determine origin year of customers======\")\n",
    "print(\"The origin year of customer can be achieved by \\\"grouping by\\\" and ranking customerID and TransactionDate.\")\n",
    "clv2 = clv.copy()\n",
    "clv2['TransactionDate']= pd.to_datetime(clv2['TransactionDate'])\n",
    "clv2[\"rank\"] = clv2.groupby(\"CustomerID\")[\"TransactionDate\"].rank(ascending=True)\n",
    "clv2.set_index('TransactionDate',inplace=True)\n",
    "clv2['Transaction_year'] = clv2.index.year\n",
    "clv2['Transaction_month'] = clv2.index.month\n",
    "origin_year = clv2[clv2['rank'] == 1][['CustomerID','Transaction_year']]\n",
    "clv_originyr = clv.merge(origin_year, on = 'CustomerID')\n",
    "clv_originyr.columns = ['TransactionID','TransactionDate','CustomerID','Amount','Origin_year']\n",
    "clv_originyr.head()"
   ]
  },
  {
   "cell_type": "code",
   "execution_count": 7,
   "metadata": {},
   "outputs": [
    {
     "name": "stdout",
     "output_type": "stream",
     "text": [
      "======Step 4 Calculate cumulative transaction amounts======\n",
      "The cumulative trasaction can be caculated as follows:\n",
      "              Amount                                             \n",
      "month             12       24       36       48       60       72\n",
      "Origin_year                                                      \n",
      "2010         2259.67  3614.78  5274.81  6632.37  7930.69  8964.49\n",
      "2011         2238.46  3757.90  5465.99  6703.11  7862.24      NaN\n",
      "2012         2168.32  3861.66  5213.83  6463.40      NaN      NaN\n",
      "2013         2159.05  3589.01  5190.98      NaN      NaN      NaN\n",
      "2014         1830.85  3262.05      NaN      NaN      NaN      NaN\n",
      "2015         1912.17      NaN      NaN      NaN      NaN      NaN\n"
     ]
    }
   ],
   "source": [
    "print(\"======Step 4 Calculate cumulative transaction amounts======\")\n",
    "print(\"The cumulative trasaction can be caculated as follows:\")\n",
    "clv_originyr['TransactionDate'] = pd.to_datetime(clv_originyr['TransactionDate'], errors='coerce', format = '%m/%d/%Y')\n",
    "clv_originyr.set_index('TransactionDate',inplace=True)\n",
    "clv_originyr['Transaction_year'] = clv_originyr.index.year\n",
    "clv_originyr['month'] = (clv_originyr['Transaction_year'] - clv_originyr['Origin_year'] + 1)*12\n",
    "clv_originyr['month'] = clv_originyr['month'].astype(str)\n",
    "z = clv_originyr.groupby(by=['Origin_year','month']).sum().groupby(level=[0]).cumsum()[['Amount']]\n",
    "f = pd.pivot_table(z, index=[\"Origin_year\"], columns=[\"month\"], values=[\"Amount\"])\n",
    "print(f)"
   ]
  },
  {
   "cell_type": "code",
   "execution_count": 8,
   "metadata": {},
   "outputs": [
    {
     "name": "stdout",
     "output_type": "stream",
     "text": [
      "======Step 5 Calculate cumulative transaction ======\n",
      "The number of new customers by origin year in each year is as follows:\n",
      "\n",
      "       12     24     36     48     60     72\n",
      "2010  172  172.0  172.0  172.0  172.0  172.0\n",
      "2011  170  170.0  170.0  170.0  170.0    NaN\n",
      "2012  162  162.0  162.0  162.0    NaN    NaN\n",
      "2013  179  179.0  179.0    NaN    NaN    NaN\n",
      "2014  155  155.0    NaN    NaN    NaN    NaN\n",
      "2015  160    NaN    NaN    NaN    NaN    NaN\n"
     ]
    }
   ],
   "source": [
    "print(\"======Step 5 Calculate cumulative transaction ======\")\n",
    "print(\"The number of new customers by origin year in each year is as follows:\\n\")\n",
    "z1 = origin_year.groupby(by=['Transaction_year']).count()\n",
    "z11 = z1.values.tolist()\n",
    "z22 = []\n",
    "for x in range(len(z11)):\n",
    "    z22.append(z11[x]*int((6-x)))\n",
    "new_customer = pd.DataFrame(z22, index= [2010,2011,2012,2013,2014,2015], columns=[i*12 for i in range(1,7)]) \n",
    "print(new_customer)"
   ]
  },
  {
   "cell_type": "code",
   "execution_count": 9,
   "metadata": {},
   "outputs": [
    {
     "name": "stdout",
     "output_type": "stream",
     "text": [
      "======Step Step 6: Historic CLV ======\n",
      "The Historic CLV is as follows:\n",
      "\n",
      "Age                 12         24         36         48         60         72\n",
      "Origin_year                                                                  \n",
      "2010         13.137616  21.016163  30.667500  38.560291  46.108663  52.119128\n",
      "2011         13.167412  22.105294  32.152882  39.430059  46.248471        NaN\n",
      "2012         13.384691  23.837407  32.184136  39.897531        NaN        NaN\n",
      "2013         12.061732  20.050335  28.999888        NaN        NaN        NaN\n",
      "2014         11.811935  21.045484        NaN        NaN        NaN        NaN\n",
      "2015         11.951062        NaN        NaN        NaN        NaN        NaN\n",
      "\n",
      "The Historic CLV that weighted by the number of customers in each group as belows:\n",
      "\n",
      "Age\n",
      "12    12.585742\n",
      "24    21.610937\n",
      "36    31.001102\n",
      "48    39.295960\n",
      "60    46.178567\n",
      "72    52.119128\n",
      "dtype: float64\n"
     ]
    },
    {
     "data": {
      "image/png": "[encoded data removed]",
      "text/plain": [
       "<Figure size 432x288 with 1 Axes>"
      ]
     },
     "metadata": {
      "needs_background": "light"
     },
     "output_type": "display_data"
    }
   ],
   "source": [
    "print(\"======Step Step 6: Historic CLV ======\")\n",
    "print(\"The Historic CLV is as follows:\\n\")\n",
    "z2 = f.div(z1['CustomerID'],axis = 0)\n",
    "z2.columns = z2.columns.droplevel()\n",
    "z2.columns.name = 'Age'\n",
    "print(z2)\n",
    "\n",
    "\n",
    "import matplotlib.pyplot as plt\n",
    "import matplotlib.ticker as ticker\n",
    "\n",
    "rr = z2.T\n",
    "fig, ax = plt.subplots()\n",
    "ax.plot(rr,marker='.')\n",
    "formatter = ticker.FormatStrFormatter('$%1.0f')\n",
    "ax.yaxis.set_major_formatter(formatter)\n",
    "plt.legend(rr.columns)\n",
    "plt.title('Historic CLV')\n",
    "plt.xlabel(\"Age\")\n",
    "plt.ylabel('Historic CLV')\n",
    "\n",
    "print(\"\\nThe Historic CLV that weighted by the number of customers in each group as belows:\\n\")\n",
    "print(z2.mean())"
   ]
  },
  {
   "cell_type": "code",
   "execution_count": 10,
   "metadata": {},
   "outputs": [
    {
     "name": "stdout",
     "output_type": "stream",
     "text": [
      "======Step Step 7: Interpreting your results ======\n",
      "Q1: How much have customers acquired in 2011 spent to date?\n",
      "- From the step 4 cumulative trasaction value we can get 7862.24 total spent to date amount for customers acquired in 2011.\n",
      "\n",
      "Q2: Do each group of customers exhibit similar or different patterns of spending? What’s the implication for the business?\n",
      "- Each group seems have the same pattern. Customers who join in the later year seems spent less than weight average amount without considering inflation. This is an indicator that retained customers are loyal and the \n",
      "company has strong retentions. \n",
      "      \n",
      "- The group of 2nd year customers make 70% more transactions on average than the 1st year customers combined (21.6 for age 24 compared to 12.5 for age 12). Similarly 3rd year customers spent 47% more than 2nd year customers; the likelyhood percentage is 25%, 18%, 13% for 4th, 5th, 6th year customers compared to 3rd, 4th, 5th year customers. This indicates that customers tend to purchase more for the first 3 years or the retention power lasts for 3 years.  \n",
      "      \n",
      "- Thus the company should focus on more acquiring new customers giving that they will maintain similar purchase pattern. Secondly the company has strong retention and retention power is around 3 years, good evergreen customer acquisition can support the company's growth in a long run. \n",
      " \n",
      "      \n"
     ]
    }
   ],
   "source": [
    "print(\"======Step Step 7: Interpreting your results ======\")\n",
    "print(\"Q1: How much have customers acquired in 2011 spent to date?\")\n",
    "print(\"- From the step 4 cumulative trasaction value we can get 7862.24 total spent to date amount for customers acquired in 2011.\")\n",
    "\n",
    "print(\"\\nQ2: Do each group of customers exhibit similar or different patterns of spending? What’s the implication for the business?\")\n",
    "print('''- Each group seems have the same pattern. Customers who join in the later year seems spent less than weight average amount without considering inflation. This is an indicator that retained customers are loyal and the \\ncompany has strong retentions. \n",
    "      \\n- The group of 2nd year customers make 70% more transactions on average than the 1st year customers combined (21.6 for age 24 compared to 12.5 for age 12). Similarly 3rd year customers spent 47% more than 2nd year customers; the likelyhood percentage is 25%, 18%, 13% for 4th, 5th, 6th year customers compared to 3rd, 4th, 5th year customers. This indicates that customers tend to purchase more for the first 3 years or the retention power lasts for 3 years.  \n",
    "      \\n- Thus the company should focus on more acquiring new customers giving that they will maintain similar purchase pattern. Secondly the company has strong retention and retention power is around 3 years, good evergreen customer acquisition can support the company's growth in a long run. \\n \n",
    "      ''')\n"
   ]
  },
  {
   "cell_type": "code",
   "execution_count": null,
   "metadata": {},
   "outputs": [],
   "source": []
  }
 ],
 "metadata": {
  "kernelspec": {
   "display_name": "Python 3",
   "language": "python",
   "name": "python3"
  },
  "language_info": {
   "codemirror_mode": {
    "name": "ipython",
    "version": 3
   },
   "file_extension": ".py",
   "mimetype": "text/x-python",
   "name": "python",
   "nbconvert_exporter": "python",
   "pygments_lexer": "ipython3",
   "version": "3.6.8"
  }
 },
 "nbformat": 4,
 "nbformat_minor": 2
}
