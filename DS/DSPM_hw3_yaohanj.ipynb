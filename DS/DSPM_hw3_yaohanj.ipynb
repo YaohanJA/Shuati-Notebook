{
 "cells": [
  {
   "cell_type": "markdown",
   "metadata": {
    "colab_type": "text",
    "id": "q4315cB2AwAD"
   },
   "source": [
    "## EDA"
   ]
  },
  {
   "cell_type": "code",
   "execution_count": 0,
   "metadata": {
    "colab": {
     "base_uri": "https://localhost:8080/",
     "height": 122
    },
    "colab_type": "code",
    "id": "WRrV7qdAAzi1",
    "outputId": "fc34d83f-0f19-4dee-bb27-5910c9d68808"
   },
   "outputs": [
    {
     "name": "stdout",
     "output_type": "stream",
     "text": [
      "Go to this URL in a browser: https://accounts.google.com/o/oauth2/auth?client_id=947318989803-6bn6qk8qdgf4n4g3pfee6491hc0brc4i.apps.googleusercontent.com&redirect_uri=urn%3Aietf%3Awg%3Aoauth%3A2.0%3Aoob&scope=email%20https%3A%2F%2Fwww.googleapis.com%2Fauth%2Fdocs.test%20https%3A%2F%2Fwww.googleapis.com%2Fauth%2Fdrive%20https%3A%2F%2Fwww.googleapis.com%2Fauth%2Fdrive.photos.readonly%20https%3A%2F%2Fwww.googleapis.com%2Fauth%2Fpeopleapi.readonly&response_type=code\n",
      "\n",
      "Enter your authorization code:\n",
      "··········\n",
      "Mounted at /content/drive\n"
     ]
    }
   ],
   "source": [
    "from google.colab import drive\n",
    "drive.mount('/content/drive')"
   ]
  },
  {
   "cell_type": "code",
   "execution_count": 0,
   "metadata": {
    "colab": {},
    "colab_type": "code",
    "id": "OR3kk1TM7icY"
   },
   "outputs": [],
   "source": [
    "import pandas as pd\n",
    "import seaborn as sns\n",
    "import matplotlib.pyplot as plt\n"
   ]
  },
  {
   "cell_type": "code",
   "execution_count": 0,
   "metadata": {
    "colab": {
     "base_uri": "https://localhost:8080/",
     "height": 71
    },
    "colab_type": "code",
    "id": "4voWOWdb7icc",
    "outputId": "d37e5eab-50aa-431a-ffc1-aa2a6867630a"
   },
   "outputs": [
    {
     "name": "stderr",
     "output_type": "stream",
     "text": [
      "/usr/local/lib/python3.6/dist-packages/IPython/core/interactiveshell.py:2718: DtypeWarning: Columns (5,6,11,16) have mixed types. Specify dtype option on import or set low_memory=False.\n",
      "  interactivity=interactivity, compiler=compiler, result=result)\n"
     ]
    }
   ],
   "source": [
    "cc0 = pd.read_csv(\"/content/drive/My Drive/Colab Notebooks/Consumer_Complaints.csv\")\n",
    "cc = cc0.copy()"
   ]
  },
  {
   "cell_type": "code",
   "execution_count": 0,
   "metadata": {
    "colab": {
     "base_uri": "https://localhost:8080/",
     "height": 340
    },
    "colab_type": "code",
    "id": "ED9FRab67icf",
    "outputId": "2ba6632e-c994-4644-8a7f-ca1536ed28ba"
   },
   "outputs": [
    {
     "data": {
      "text/plain": [
       "Date received                   object\n",
       "Product                         object\n",
       "Sub-product                     object\n",
       "Issue                           object\n",
       "Sub-issue                       object\n",
       "Consumer complaint narrative    object\n",
       "Company public response         object\n",
       "Company                         object\n",
       "State                           object\n",
       "ZIP code                        object\n",
       "Tags                            object\n",
       "Consumer consent provided?      object\n",
       "Submitted via                   object\n",
       "Date sent to company            object\n",
       "Company response to consumer    object\n",
       "Timely response?                object\n",
       "Consumer disputed?              object\n",
       "Complaint ID                     int64\n",
       "dtype: object"
      ]
     },
     "execution_count": 5,
     "metadata": {
      "tags": []
     },
     "output_type": "execute_result"
    }
   ],
   "source": [
    "cc.dtypes"
   ]
  },
  {
   "cell_type": "code",
   "execution_count": 0,
   "metadata": {
    "colab": {
     "base_uri": "https://localhost:8080/",
     "height": 408
    },
    "colab_type": "code",
    "id": "fXyqC79xBjGt",
    "outputId": "a557a095-53f0-4312-bf38-649b6eb4aca2"
   },
   "outputs": [
    {
     "name": "stdout",
     "output_type": "stream",
     "text": [
      "<class 'pandas.core.frame.DataFrame'>\n",
      "RangeIndex: 1388558 entries, 0 to 1388557\n",
      "Data columns (total 18 columns):\n",
      "Date received                   1388558 non-null object\n",
      "Product                         1388558 non-null object\n",
      "Sub-product                     1153392 non-null object\n",
      "Issue                           1388558 non-null object\n",
      "Sub-issue                       843998 non-null object\n",
      "Consumer complaint narrative    441618 non-null object\n",
      "Company public response         505007 non-null object\n",
      "Company                         1388558 non-null object\n",
      "State                           1366069 non-null object\n",
      "ZIP code                        1261924 non-null object\n",
      "Tags                            189508 non-null object\n",
      "Consumer consent provided?      789846 non-null object\n",
      "Submitted via                   1388558 non-null object\n",
      "Date sent to company            1388558 non-null object\n",
      "Company response to consumer    1388557 non-null object\n",
      "Timely response?                1388558 non-null object\n",
      "Consumer disputed?              768485 non-null object\n",
      "Complaint ID                    1388558 non-null int64\n",
      "dtypes: int64(1), object(17)\n",
      "memory usage: 190.7+ MB\n"
     ]
    }
   ],
   "source": [
    "cc.info()"
   ]
  },
  {
   "cell_type": "markdown",
   "metadata": {
    "colab_type": "text",
    "id": "yzvxx_xl7ico"
   },
   "source": [
    "## Q1 Discard the rows where consumer complaint narrative is blank. How many rows does this yield?\n",
    "- 441618 row."
   ]
  },
  {
   "cell_type": "code",
   "execution_count": 0,
   "metadata": {
    "colab": {},
    "colab_type": "code",
    "id": "N7UnbNblflsD"
   },
   "outputs": [],
   "source": []
  },
  {
   "cell_type": "code",
   "execution_count": 0,
   "metadata": {
    "colab": {
     "base_uri": "https://localhost:8080/",
     "height": 51
    },
    "colab_type": "code",
    "id": "ejF7cUEQAwAE",
    "outputId": "f8f02ac4-3392-473c-ff88-cc9821c31732"
   },
   "outputs": [
    {
     "name": "stdout",
     "output_type": "stream",
     "text": [
      "(1388558, 18)\n",
      "(441618, 18)\n"
     ]
    }
   ],
   "source": [
    "cc = cc.dropna(subset = ['Consumer complaint narrative'])\n",
    "print(cc0.shape)\n",
    "print(cc.shape)"
   ]
  },
  {
   "cell_type": "markdown",
   "metadata": {
    "colab_type": "text",
    "id": "iJQ6U7zrAwAP"
   },
   "source": [
    "### Q3 Draw a histogram of number of complaints by company name. What can you conclude about which institutions are causing the most complaints?\n",
    "\n",
    "- Financial(Bank)institution\n",
    "- The Equifax has the highest number of complaints\n"
   ]
  },
  {
   "cell_type": "code",
   "execution_count": 0,
   "metadata": {
    "colab": {
     "base_uri": "https://localhost:8080/",
     "height": 516
    },
    "colab_type": "code",
    "id": "jF7n6CUIAwAP",
    "outputId": "d73b57d2-1520-4b80-fbd7-ca9cbdf03449"
   },
   "outputs": [
    {
     "data": {
      "text/plain": [
       "<matplotlib.axes._subplots.AxesSubplot at 0x7fce55ff6470>"
      ]
     },
     "execution_count": 9,
     "metadata": {
      "tags": []
     },
     "output_type": "execute_result"
    },
    {
     "data": {
      "image/png": "[encoded data removed]",
      "text/plain": [
       "<Figure size 432x288 with 1 Axes>"
      ]
     },
     "metadata": {
      "tags": []
     },
     "output_type": "display_data"
    }
   ],
   "source": [
    "complaints_by_company = cc.groupby(by='Company')[['Complaint ID']].count()\n",
    "top_20 = complaints_by_company.sort_values(by= \"Complaint ID\",ascending=False).head(20)\n",
    "top_20.plot(kind='bar')"
   ]
  },
  {
   "cell_type": "markdown",
   "metadata": {
    "colab_type": "text",
    "id": "DY1NhCEZAwAW"
   },
   "source": [
    "## Q4  Create a model to predict the product based on the consumer complaint narrative. \n",
    "### Step 1: Text Preprocessing\n",
    "- covert to lower case\n",
    "- remove numbers | punctuation | noise like 'xxxxx'\n",
    "- remove stopwords\n",
    "- lemmatization using spaCy"
   ]
  },
  {
   "cell_type": "code",
   "execution_count": 0,
   "metadata": {
    "colab": {
     "base_uri": "https://localhost:8080/",
     "height": 204
    },
    "colab_type": "code",
    "id": "_vQKzre0CrWj",
    "outputId": "14960d91-f8e1-4cfb-9d28-5a76f453717e"
   },
   "outputs": [
    {
     "data": {
      "text/html": [
       "<div>\n",
       "<style scoped>\n",
       "    .dataframe tbody tr th:only-of-type {\n",
       "        vertical-align: middle;\n",
       "    }\n",
       "\n",
       "    .dataframe tbody tr th {\n",
       "        vertical-align: top;\n",
       "    }\n",
       "\n",
       "    .dataframe thead th {\n",
       "        text-align: right;\n",
       "    }\n",
       "</style>\n",
       "<table border=\"1\" class=\"dataframe\">\n",
       "  <thead>\n",
       "    <tr style=\"text-align: right;\">\n",
       "      <th></th>\n",
       "      <th>Consumer complaint narrative</th>\n",
       "      <th>Product</th>\n",
       "    </tr>\n",
       "  </thead>\n",
       "  <tbody>\n",
       "    <tr>\n",
       "      <th>0</th>\n",
       "      <td>I don't even know half of this company I have ...</td>\n",
       "      <td>Credit reporting, credit repair services, or o...</td>\n",
       "    </tr>\n",
       "    <tr>\n",
       "      <th>1</th>\n",
       "      <td>I contacted XXXX and get better understanding ...</td>\n",
       "      <td>Credit reporting, credit repair services, or o...</td>\n",
       "    </tr>\n",
       "    <tr>\n",
       "      <th>2</th>\n",
       "      <td>I was served with a Summons to Answer in the t...</td>\n",
       "      <td>Debt collection</td>\n",
       "    </tr>\n",
       "    <tr>\n",
       "      <th>3</th>\n",
       "      <td>I never had XXXX in my life, and I always use ...</td>\n",
       "      <td>Debt collection</td>\n",
       "    </tr>\n",
       "    <tr>\n",
       "      <th>4</th>\n",
       "      <td>Ideal Collection Services is attempting to col...</td>\n",
       "      <td>Debt collection</td>\n",
       "    </tr>\n",
       "  </tbody>\n",
       "</table>\n",
       "</div>"
      ],
      "text/plain": [
       "                        Consumer complaint narrative                                            Product\n",
       "0  I don't even know half of this company I have ...  Credit reporting, credit repair services, or o...\n",
       "1  I contacted XXXX and get better understanding ...  Credit reporting, credit repair services, or o...\n",
       "2  I was served with a Summons to Answer in the t...                                    Debt collection\n",
       "3  I never had XXXX in my life, and I always use ...                                    Debt collection\n",
       "4  Ideal Collection Services is attempting to col...                                    Debt collection"
      ]
     },
     "execution_count": 10,
     "metadata": {
      "tags": []
     },
     "output_type": "execute_result"
    }
   ],
   "source": [
    "cc1 = cc.copy()\n",
    "cc2 = cc1[['Consumer complaint narrative','Product']]\n",
    "cc2.index = range(cc2.shape[0])\n",
    "cc2.head()"
   ]
  },
  {
   "cell_type": "markdown",
   "metadata": {
    "colab_type": "text",
    "id": "e0J-l3Wm7ic3"
   },
   "source": [
    "##### Compare results btw nltk and spaCy\n",
    "\n",
    "First I tried nltk. Then I tried spaCy.\n",
    "I choose **spaCy** for the following reason:   \n",
    "\n",
    "- NLTK requires pos tag for lemma , wordnet pkg is used. But, NLTK is not providing, for example: bought > buy\n",
    "- spaCy returns more succinct results\n",
    "- spacy is more efficient for lemmatization"
   ]
  },
  {
   "cell_type": "code",
   "execution_count": 0,
   "metadata": {
    "colab": {},
    "colab_type": "code",
    "id": "xR-8ld0Unhcd"
   },
   "outputs": [],
   "source": [
    "from nltk.stem import WordNetLemmatizer \n",
    "from nltk.stem import PorterStemmer\n",
    "from nltk.corpus import wordnet\n",
    "from nltk import pos_tag\n",
    "# from nltk.corpus import stopwords\n",
    "import re\n",
    "# from nltk.corpus import stopwords\n",
    "import spacy\n",
    "\n",
    "# get the stop words list form nltk, having trouble access using colab\n",
    "# stop = stopwords.words('english')\n",
    "\n",
    "newStopWords = ['dont','us'] # add customized words\n",
    "stop.extend(newStopWords)\n",
    "\n",
    "## colab needs extra step to download stopwords pkg, hence I copy the list from local run.\n",
    "stopwords = ['i', 'me', 'my', 'myself', 'we', 'our', 'ours', 'ourselves', 'you', \"you're\", \"you've\", \"you'll\", \"you'd\", 'your', 'yours', 'yourself', 'yourselves', 'he', 'him', 'his', 'himself', 'she', \"she's\", 'her', 'hers', 'herself', 'it', \"it's\", 'its', 'itself', 'they', 'them', 'their', 'theirs', 'themselves', 'what', 'which', 'who', 'whom', 'this', 'that', \"that'll\", 'these', 'those', 'am', 'is', 'are', 'was', 'were', 'be', 'been', 'being', 'have', 'has', 'had', 'having', 'do', 'does', 'did', 'doing', 'a', 'an', 'the', 'and', 'but', 'if', 'or', 'because', 'as', 'until', 'while', 'of', 'at', 'by', 'for', 'with', 'about', 'against', 'between', 'into', 'through', 'during', 'before', 'after', 'above', 'below', 'to', 'from', 'up', 'down', 'in', 'out', 'on', 'off', 'over', 'under', 'again', 'further', 'then', 'once', 'here', 'there', 'when', 'where', 'why', 'how', 'all', 'any', 'both', 'each', 'few', 'more', 'most', 'other', 'some', 'such', 'no', 'nor', 'not', 'only', 'own', 'same', 'so', 'than', 'too', 'very', 's', 't', 'can', 'will', 'just', 'don', \"don't\", 'should', \"should've\", 'now', 'd', 'll', 'm', 'o', 're', 've', 'y', 'ain', 'aren', \"aren't\", 'couldn', \"couldn't\", 'didn', \"didn't\", 'doesn', \"doesn't\", 'hadn', \"hadn't\", 'hasn', \"hasn't\", 'haven', \"haven't\", 'isn', \"isn't\", 'ma', 'mightn', \"mightn't\", 'mustn', \"mustn't\", 'needn', \"needn't\", 'shan', \"shan't\", 'shouldn', \"shouldn't\", 'wasn', \"wasn't\", 'weren', \"weren't\", 'won', \"won't\", 'wouldn', \"wouldn't\", 'dont', 'us']\n",
    "stop = stopwords"
   ]
  },
  {
   "cell_type": "code",
   "execution_count": 0,
   "metadata": {
    "colab": {},
    "colab_type": "code",
    "id": "I6UIoi6s7ic4"
   },
   "outputs": [],
   "source": [
    "def get_wordnet_pos(word):\n",
    "    \"\"\"Map POS tag to first character lemmatize() accepts\"\"\"\n",
    "    tag = pos_tag([word])[0][1][0].upper()\n",
    "    tag_dict = {\"J\": wordnet.ADJ,\n",
    "                \"N\": wordnet.NOUN,\n",
    "                \"V\": wordnet.VERB,\n",
    "                \"R\": wordnet.ADV}\n",
    "\n",
    "    return tag_dict.get(tag, wordnet.NOUN)\n",
    "#https://www.machinelearningplus.com/nlp/lemmatization-examples-python/#comparingnltktextblobspacypatternandstanfordcorenlp\n",
    "\n",
    "def preprocess1(s):\n",
    "    lemmatizer = WordNetLemmatizer()\n",
    "    re_sp= re.sub(r'([^a-z\\s])|(x*)',\"\",s.lower()) # lower case, keep character|whitespace or character or XXX\n",
    "    no_char = ' '.join( [w for w in re_sp.split() if len(w)>1]).strip() # remove sigle character\n",
    "    stop = stopwords.words('english')\n",
    "    newStopWords = ['dont','us']\n",
    "    stop.extend(newStopWords)\n",
    "    filtered_sp = [w for w in no_char.split(\" \") if not w in stop] #remove stopwords    \n",
    "    lemmaed_sp = [lemmatizer.lemmatize(item,get_wordnet_pos(item)) for item in filtered_sp]\n",
    "    lemmaed_sp2 = ' '.join([x for x in lemmaed_sp])    \n",
    "    return lemmaed_sp2"
   ]
  },
  {
   "cell_type": "code",
   "execution_count": 0,
   "metadata": {
    "colab": {},
    "colab_type": "code",
    "id": "Okq7D9pX7ic7"
   },
   "outputs": [],
   "source": [
    "def preprocess2(s):\n",
    "    nlp = spacy.load('en', disable=['parser', 'ner','tagger'])\n",
    "    re_sp= re.sub(r'([^a-z\\s])|(x*)','',s.lower()) # lower case, keep character|whitespace or character or XXX\n",
    "\n",
    "    for w in stop:\n",
    "      nlp.vocab[w].is_stop = True\n",
    "      \n",
    "    doc = nlp(re_sp)\n",
    "    \n",
    "    lemmaed_sp = ' '.join([token.lemma_ for token in doc if not token.is_stop])\n",
    "    return lemmaed_sp"
   ]
  },
  {
   "cell_type": "code",
   "execution_count": 0,
   "metadata": {
    "colab": {},
    "colab_type": "code",
    "id": "uE3H_XbE7ic-"
   },
   "outputs": [],
   "source": [
    "cc3 = cc2.head(50).copy()\n",
    "cc3['Consumer complaint narrative'] = cc3.loc[:,'Consumer complaint narrative'].apply(lambda x: preprocess1(str(x)))\n",
    "cc4 = cc3.copy()\n",
    "cc4['Consumer complaint narrative'] = cc4.loc[:,'Consumer complaint narrative'].apply(lambda x: preprocess2(str(x)))"
   ]
  },
  {
   "cell_type": "markdown",
   "metadata": {
    "colab_type": "text",
    "id": "j-FRGXIlftW0"
   },
   "source": []
  },
  {
   "cell_type": "code",
   "execution_count": 0,
   "metadata": {
    "colab": {},
    "colab_type": "code",
    "id": "kMTMo9tt7idC",
    "outputId": "ddd23441-98c5-48fb-fdd2-317c31d9c591"
   },
   "outputs": [
    {
     "data": {
      "text/plain": [
       "\"I contacted XXXX and get better understanding off my loan. The loan was originally with XXXX XXXX but they closed down and XXXX bought the loan. \\nI don't understand what's going on with this loan ( ACCT : XXXX ). For the month of XX/XX/XXXX {$250.00} were paid to XXXX XXXX/XXXX but the customer service representative told me over the phone that only {$100.00} was received. The total payoff for the loan should be less than {$450.00} at the moment but I'm being told that there's a higher amount and I don't have to pay until XX/XX/XXXX. How is this possible? Could you please help understand what is going on. Attached to this email is a copy of Leave and Earning Statement ( LES ) and Allotment information that shows my payments. I believe the interest rate of this loan has raised without my knowledge and agreement. The company is NOT reporting to the Credit Bureaus at all.\""
      ]
     },
     "execution_count": 14,
     "metadata": {
      "tags": []
     },
     "output_type": "execute_result"
    }
   ],
   "source": [
    "cc2['Consumer complaint narrative'] [1]"
   ]
  },
  {
   "cell_type": "code",
   "execution_count": 0,
   "metadata": {
    "colab": {},
    "colab_type": "code",
    "id": "UuKXQi8p7idF",
    "outputId": "c995a58b-928e-4dcc-83d7-41b3902d16a0"
   },
   "outputs": [
    {
     "data": {
      "text/plain": [
       "'contact get well understand loan loan originally close bought loan understand whats go loan acct month paid customer service representative told phone receive total payoff loan less moment im told there high amount pay possible could please help understand go attach email copy leave earn statement le allotment information show payment believe interest rate loan raise without knowledge agreement company reporting credit bureau'"
      ]
     },
     "execution_count": 15,
     "metadata": {
      "tags": []
     },
     "output_type": "execute_result"
    }
   ],
   "source": [
    "#NLTK result\n",
    "cc3['Consumer complaint narrative'] [1]"
   ]
  },
  {
   "cell_type": "code",
   "execution_count": 0,
   "metadata": {
    "colab": {},
    "colab_type": "code",
    "id": "qVL0BG-N8dw_",
    "outputId": "27d3e1e5-8162-4167-f516-07f8c0844265"
   },
   "outputs": [
    {
     "data": {
      "text/plain": [
       "'contact understand loan loan originally close buy loan understand loan acct month pay customer service representative tell phone receive total payoff loan moment tell high pay possible help understand attach email copy leave earn statement le allotment information payment believe interest rate loan raise knowledge agreement company report credit bureau'"
      ]
     },
     "execution_count": 19,
     "metadata": {
      "tags": []
     },
     "output_type": "execute_result"
    }
   ],
   "source": [
    "#spaCy result\n",
    "cc4['Consumer complaint narrative'] [1]"
   ]
  },
  {
   "cell_type": "markdown",
   "metadata": {
    "colab_type": "text",
    "id": "DSvsC00-7idP"
   },
   "source": [
    "### Step2: Use Google Colab TPU to generate lemmaed results using spaCy"
   ]
  },
  {
   "cell_type": "code",
   "execution_count": 0,
   "metadata": {
    "colab": {
     "base_uri": "https://localhost:8080/",
     "height": 51
    },
    "colab_type": "code",
    "id": "XwP366nnoXPz",
    "outputId": "64c0efa8-1a20-40b0-c7b1-5b1c190b33e5"
   },
   "outputs": [
    {
     "name": "stdout",
     "output_type": "stream",
     "text": [
      "CPU times: user 5h 7min 6s, sys: 1min 19s, total: 5h 8min 26s\n",
      "Wall time: 5h 8min 38s\n"
     ]
    }
   ],
   "source": [
    "%%time\n",
    "cc_lemmaed = cc2.copy()\n",
    "cc_lemmaed['Consumer complaint narrative'] = cc_lemmaed.loc[:,'Consumer complaint narrative'].apply(lambda x: preprocess2(str(x)))\n",
    "cc_lemmaed.to_csv('/content/drive/My Drive/Colab Notebooks/cc_lemmaed.csv', sep=',',header=True, index=True)\n"
   ]
  },
  {
   "cell_type": "code",
   "execution_count": 0,
   "metadata": {
    "colab": {
     "base_uri": "https://localhost:8080/",
     "height": 221
    },
    "colab_type": "code",
    "id": "fSjoccaDGyaH",
    "outputId": "cd5a82b9-03fb-4a96-b654-b143c407664b"
   },
   "outputs": [
    {
     "name": "stdout",
     "output_type": "stream",
     "text": [
      "(441618, 2)\n"
     ]
    },
    {
     "data": {
      "text/html": [
       "<div>\n",
       "<style scoped>\n",
       "    .dataframe tbody tr th:only-of-type {\n",
       "        vertical-align: middle;\n",
       "    }\n",
       "\n",
       "    .dataframe tbody tr th {\n",
       "        vertical-align: top;\n",
       "    }\n",
       "\n",
       "    .dataframe thead th {\n",
       "        text-align: right;\n",
       "    }\n",
       "</style>\n",
       "<table border=\"1\" class=\"dataframe\">\n",
       "  <thead>\n",
       "    <tr style=\"text-align: right;\">\n",
       "      <th></th>\n",
       "      <th>Sub-product</th>\n",
       "      <th>Issue</th>\n",
       "      <th>Sub-issue</th>\n",
       "      <th>Consumer complaint narrative</th>\n",
       "      <th>Product</th>\n",
       "    </tr>\n",
       "  </thead>\n",
       "  <tbody>\n",
       "    <tr>\n",
       "      <th>0</th>\n",
       "      <td>Credit reporting</td>\n",
       "      <td>Incorrect information on your report</td>\n",
       "      <td>Account status incorrect</td>\n",
       "      <td>not know half company open account people info...</td>\n",
       "      <td>Credit reporting, credit repair services, or o...</td>\n",
       "    </tr>\n",
       "    <tr>\n",
       "      <th>1</th>\n",
       "      <td>Credit reporting</td>\n",
       "      <td>Incorrect information on your report</td>\n",
       "      <td>Account information incorrect</td>\n",
       "      <td>contact   well understand loan loan originally...</td>\n",
       "      <td>Credit reporting, credit repair services, or o...</td>\n",
       "    </tr>\n",
       "    <tr>\n",
       "      <th>2</th>\n",
       "      <td>Other debt</td>\n",
       "      <td>Written notification about debt</td>\n",
       "      <td>Didn't receive enough information to verify debt</td>\n",
       "      <td>serve summon answer week   prior notice   code...</td>\n",
       "      <td>Debt collection</td>\n",
       "    </tr>\n",
       "    <tr>\n",
       "      <th>3</th>\n",
       "      <td>Medical debt</td>\n",
       "      <td>Attempts to collect debt not owed</td>\n",
       "      <td>Debt is not yours</td>\n",
       "      <td>life use military insurance hospital guarant...</td>\n",
       "      <td>Debt collection</td>\n",
       "    </tr>\n",
       "    <tr>\n",
       "      <th>4</th>\n",
       "      <td>Other debt</td>\n",
       "      <td>Attempts to collect debt not owed</td>\n",
       "      <td>Debt is not yours</td>\n",
       "      <td>ideal collection service attempt collect debt ...</td>\n",
       "      <td>Debt collection</td>\n",
       "    </tr>\n",
       "  </tbody>\n",
       "</table>\n",
       "</div>"
      ],
      "text/plain": [
       "        Sub-product  ...                                            Product\n",
       "0  Credit reporting  ...  Credit reporting, credit repair services, or o...\n",
       "1  Credit reporting  ...  Credit reporting, credit repair services, or o...\n",
       "2        Other debt  ...                                    Debt collection\n",
       "3      Medical debt  ...                                    Debt collection\n",
       "4        Other debt  ...                                    Debt collection\n",
       "\n",
       "[5 rows x 5 columns]"
      ]
     },
     "execution_count": 8,
     "metadata": {
      "tags": []
     },
     "output_type": "execute_result"
    }
   ],
   "source": [
    "cc_lemmaed0 = pd.read_csv('/content/drive/My Drive/Colab Notebooks/cc_lemmaed.csv',index_col=0)\n",
    "cc_lemmaed0 = cc_lemmaed0.astype(str)\n",
    "print(cc_lemmaed0.shape)\n",
    "\n",
    "cc = cc.reset_index(drop = True)\n",
    "cc_lemmaed = cc[['Sub-product','Issue','Sub-issue']].join(cc_lemmaed0)\n",
    "cc_lemmaed.head()"
   ]
  },
  {
   "cell_type": "markdown",
   "metadata": {
    "colab_type": "text",
    "id": "XoWCuwyw7idv"
   },
   "source": [
    "### Step3: Build model \n"
   ]
  },
  {
   "cell_type": "markdown",
   "metadata": {
    "colab_type": "text",
    "id": "nLDgk9sdXC5O"
   },
   "source": [
    "#### Modeling techniques\n",
    "1, Train/Test split    \n",
    "2, Feature vector representation: TfidfVectorizer for 'Consumer Complaints', LabelEncoder for 'Products'\n",
    "\n",
    "\n",
    "#### The model that I choose is : Logistic Regression\n",
    "- I choose LR because it can not only obtain specific classification categories, but also obtain continuous probability values. \n",
    "Here I have relatively smaller n_features = 8000 and large number_of samples = 441618. LR is better for SVM.\n",
    "- I would choose linear SVM or SVM Bagger for future analysis.\n",
    "\n",
    "- Hyperparameter for LR: Inverse of lambda c = 5 for controlling regularization factor. [It’s a penalty term, meant to disincentivize and regulate against Overfitting.]"
   ]
  },
  {
   "cell_type": "code",
   "execution_count": 0,
   "metadata": {
    "colab": {},
    "colab_type": "code",
    "id": "jXTk7_Ffavvc"
   },
   "outputs": [],
   "source": [
    "from sklearn.model_selection import train_test_split\n",
    "# transform 'product' non-numerical labels to numeric\n",
    "from sklearn import preprocessing\n",
    "from sklearn.linear_model import LogisticRegression\n",
    "from sklearn.feature_extraction.text import TfidfVectorizer\n",
    "\n",
    "\n",
    "from sklearn import metrics\n",
    "from sklearn.metrics import classification_report\n",
    "from sklearn.metrics import confusion_matrix\n",
    "import numpy as np"
   ]
  },
  {
   "cell_type": "code",
   "execution_count": 0,
   "metadata": {
    "colab": {
     "base_uri": "https://localhost:8080/",
     "height": 309
    },
    "colab_type": "code",
    "id": "6wBGG6ljE3FF",
    "outputId": "6242ebe4-7677-41d8-f840-f9d1e072a77b"
   },
   "outputs": [
    {
     "name": "stdout",
     "output_type": "stream",
     "text": [
      "==========Train/Test split==========\n",
      "(331213,) (331213,)\n",
      "(110405,) (110405,)\n",
      "==========LabelEncoder for Product==========\n",
      "(331213,)\n",
      "(110405,)\n",
      "==========TfidfVectorizer for Consumer complaint narrative==========\n",
      "(331213, 8000)\n",
      "(110405, 8000)\n"
     ]
    },
    {
     "name": "stderr",
     "output_type": "stream",
     "text": [
      "/usr/local/lib/python3.6/dist-packages/sklearn/linear_model/logistic.py:432: FutureWarning: Default solver will be changed to 'lbfgs' in 0.22. Specify a solver to silence this warning.\n",
      "  FutureWarning)\n",
      "/usr/local/lib/python3.6/dist-packages/sklearn/linear_model/logistic.py:469: FutureWarning: Default multi_class will be changed to 'auto' in 0.22. Specify the multi_class option to silence this warning.\n",
      "  \"this warning.\", FutureWarning)\n"
     ]
    },
    {
     "name": "stdout",
     "output_type": "stream",
     "text": [
      "Logistic Regression > Accuracy:  0.7105565871110909\n",
      "CPU times: user 8min 28s, sys: 687 ms, total: 8min 28s\n",
      "Wall time: 8min 29s\n"
     ]
    }
   ],
   "source": [
    "%%time\n",
    "x_name = 'Consumer complaint narrative'\n",
    "y_name = 'Product'\n",
    "\n",
    "cc_lemmaed_product = cc_lemmaed[[x_name,y_name]].copy()\n",
    "cc_lemmaed_product = cc_lemmaed_product[~cc_lemmaed_product.isna()]\n",
    "\n",
    "df = cc_lemmaed_product\n",
    "cc_X = df[x_name]\n",
    "cc_y = df[y_name]\n",
    "\n",
    "sample_size = df.shape[0] #100000\n",
    "X = cc_X[:sample_size]\n",
    "y = cc_y[:sample_size]\n",
    "train_x, valid_x, train_y, valid_y = train_test_split(X, y,stratify=y, \n",
    "                                                    test_size=0.25)\n",
    "print(\"=\"*10 + 'Train/Test split' +\"=\"*10 )\n",
    "print(train_x.shape,train_y.shape)\n",
    "print(valid_x.shape,valid_y.shape)\n",
    "\n",
    "# transform 'product' non-numerical labels to numeric\n",
    "enc = preprocessing.LabelEncoder()\n",
    "train_y = enc.fit_transform(train_y)\n",
    "valid_y = enc.fit_transform(valid_y)\n",
    "print(\"=\"*10 + 'LabelEncoder for ' + y_name +\"=\"*10 )\n",
    "print(train_y.shape)\n",
    "print(valid_y.shape)\n",
    "#   return train_x, valid_x, train_y, valid_y\n",
    "\n",
    "\n",
    "# unigram model, max_features = 8000\n",
    "tfidf_vect = TfidfVectorizer(analyzer='word', token_pattern=r'\\w{1,}', max_features=8000)\n",
    "tfidf_vect.fit(X)\n",
    "xtrain_tfidf =  tfidf_vect.transform(train_x)\n",
    "xvalid_tfidf =  tfidf_vect.transform(valid_x)\n",
    "print(\"=\"*10 + 'TfidfVectorizer for ' + x_name +\"=\"*10 )\n",
    "\n",
    "print(xtrain_tfidf.shape)\n",
    "print(xvalid_tfidf.shape)\n",
    "\n",
    "# train model\n",
    "lr = LogisticRegression(C=5)\n",
    "lr.fit(xtrain_tfidf,train_y)\n",
    "lr_predict = lr.predict(xvalid_tfidf)\n",
    "lr_accuracy = metrics.accuracy_score(lr_predict, valid_y)\n",
    "print (\"Logistic Regression > Accuracy: \", lr_accuracy)"
   ]
  },
  {
   "cell_type": "markdown",
   "metadata": {
    "colab_type": "text",
    "id": "8OzYOwAEJ90K"
   },
   "source": [
    "##### Q4: How accurate are your predictions for each field, and how did you evaluate this?\n",
    "\n",
    "\n",
    "#### Evaluation:\n",
    "The overall accuracy is around 71%. However we have unblanced product class categories.\n",
    "\n",
    "- The Virtual currency precision is 1 giving that we only 4 numer of occurrences in that.\n",
    "- The top three support classes are'Student loan', 'Checking or savings account','Bank account or service '. Student loan has the loweast f1 score. And precision for student loan is only 69% compared to the other two(78% and 89%), which means false positive count for Student loan is high.    \n",
    "- For the support number less than 10000, their have a relatively low f1 score.\n",
    "- The Credit card has the loweast f1 score(5%), this is because it has low recall ratio and support count. This is rare because the true number of credit card complaint is fifth highest (27059). My guess is that it's hard to differentiate between \"Credit card or prepaid card\", \"Credit card\" and \"Credit reporting\" giving that they all have the word \"credit\"."
   ]
  },
  {
   "cell_type": "code",
   "execution_count": 0,
   "metadata": {
    "colab": {
     "base_uri": "https://localhost:8080/",
     "height": 289
    },
    "colab_type": "code",
    "id": "SC4uMFqRdh6L",
    "outputId": "a9367e68-ea34-4065-a583-c0864f04f4c5"
   },
   "outputs": [
    {
     "data": {
      "text/plain": [
       "[('Credit reporting, credit repair services, or other personal consumer reports',\n",
       "  120726),\n",
       " ('Debt collection', 97329),\n",
       " ('Mortgage', 57642),\n",
       " ('Credit reporting', 31588),\n",
       " ('Credit card or prepaid card', 27059),\n",
       " ('Student loan', 23645),\n",
       " ('Credit card', 18838),\n",
       " ('Checking or savings account', 16287),\n",
       " ('Bank account or service', 14885),\n",
       " ('Consumer Loan', 9473),\n",
       " ('Vehicle loan or lease', 7031),\n",
       " ('Money transfer, virtual currency, or money service', 6695),\n",
       " ('Payday loan, title loan, or personal loan', 5418),\n",
       " ('Payday loan', 1747),\n",
       " ('Money transfers', 1497)]"
      ]
     },
     "execution_count": 11,
     "metadata": {
      "tags": []
     },
     "output_type": "execute_result"
    }
   ],
   "source": [
    "from collections import Counter\n",
    "Counter(cc['Product']).most_common(15)"
   ]
  },
  {
   "cell_type": "code",
   "execution_count": 0,
   "metadata": {
    "colab": {
     "base_uri": "https://localhost:8080/",
     "height": 442
    },
    "colab_type": "code",
    "id": "tk7I5fTAR7yX",
    "outputId": "a71e2efe-b59a-49f9-b247-79b2d18bce92"
   },
   "outputs": [
    {
     "name": "stdout",
     "output_type": "stream",
     "text": [
      "                                                                              precision    recall  f1-score   support\n",
      "\n",
      "Credit reporting, credit repair services, or other personal consumer reports       0.50      0.40      0.44      3721\n",
      "                                                             Debt collection       0.54      0.57      0.56      4072\n",
      "                                                       Vehicle loan or lease       0.44      0.26      0.33      2368\n",
      "                                   Payday loan, title loan, or personal loan       0.47      0.31      0.37      4710\n",
      "                                                                    Mortgage       0.55      0.61      0.58      6765\n",
      "                                                 Credit card or prepaid card       0.57      0.21      0.31      7897\n",
      "                                                                Student loan       0.69      0.83      0.75     30182\n",
      "                                                 Checking or savings account       0.78      0.85      0.81     24332\n",
      "                          Money transfer, virtual currency, or money service       0.68      0.66      0.67      1674\n",
      "                                                            Credit reporting       0.46      0.16      0.24       374\n",
      "                                                     Bank account or service       0.89      0.94      0.91     14411\n",
      "                                                                 Credit card       0.40      0.03      0.05        73\n",
      "                                                             Money transfers       0.46      0.19      0.27       437\n",
      "                                                               Consumer Loan       0.52      0.33      0.40      1354\n",
      "                                                                Prepaid card       0.63      0.43      0.51       362\n",
      "                                                                 Payday loan       0.85      0.86      0.86      5911\n",
      "                                                     Other financial service       0.49      0.38      0.43      1758\n",
      "                                                            Virtual currency       1.00      0.25      0.40         4\n",
      "\n",
      "                                                                    accuracy                           0.71    110405\n",
      "                                                                   macro avg       0.61      0.46      0.49    110405\n",
      "                                                                weighted avg       0.69      0.71      0.69    110405\n",
      "\n"
     ]
    }
   ],
   "source": [
    "print(classification_report(valid_y, lr_predict,target_names=y.unique()))\n"
   ]
  },
  {
   "cell_type": "markdown",
   "metadata": {
    "colab_type": "text",
    "id": "ShhcWNcea_Xk"
   },
   "source": [
    "## Appendix for modelling\n",
    "\n",
    "### GridSearch for hyperparameter tuning\n",
    "- I use gridSearch on sample size from [5000,10000,100000] the best_params_ varies from 3 to 6, I choose 5 for the training.\n",
    "- It puts the entire set of models in your memory. This would not work on any normal-sized dataset. "
   ]
  },
  {
   "cell_type": "code",
   "execution_count": 0,
   "metadata": {
    "colab": {
     "base_uri": "https://localhost:8080/",
     "height": 139
    },
    "colab_type": "code",
    "id": "jcAY7ZDzAwAh",
    "outputId": "ff680770-e687-4e53-ffeb-fa68d96783d8"
   },
   "outputs": [
    {
     "name": "stderr",
     "output_type": "stream",
     "text": [
      "/usr/local/lib/python3.6/dist-packages/sklearn/linear_model/logistic.py:432: FutureWarning: Default solver will be changed to 'lbfgs' in 0.22. Specify a solver to silence this warning.\n",
      "  FutureWarning)\n",
      "/usr/local/lib/python3.6/dist-packages/sklearn/linear_model/logistic.py:469: FutureWarning: Default multi_class will be changed to 'auto' in 0.22. Specify the multi_class option to silence this warning.\n",
      "  \"this warning.\", FutureWarning)\n"
     ]
    },
    {
     "name": "stdout",
     "output_type": "stream",
     "text": [
      "CPU times: user 25.7 s, sys: 166 ms, total: 25.8 s\n",
      "Wall time: 13min 34s\n"
     ]
    }
   ],
   "source": [
    "# %%time\n",
    "# from sklearn.model_selection import GridSearchCV\n",
    "# from sklearn.linear_model import LogisticRegression\n",
    "# import numpy as np\n",
    "\n",
    "# clf = LogisticRegression()\n",
    "# lr_params = {'C':[int(x) for x in np.linspace(1,10,10)]}\n",
    "# grid_lr = GridSearchCV(estimator=clf,param_grid=lr_params,cv=5,n_jobs=-1)\n",
    "# grid_lr.fit(xtrain_tfidf,train_y)\n",
    "# print(grid_lr.best_params_)\n",
    "# print(grid_lr.best_score_)"
   ]
  },
  {
   "cell_type": "code",
   "execution_count": 0,
   "metadata": {
    "colab": {
     "base_uri": "https://localhost:8080/",
     "height": 142
    },
    "colab_type": "code",
    "id": "2x5jChy5Sq6i",
    "outputId": "b2c90d6d-027d-4593-8dbc-a6d1ce005117"
   },
   "outputs": [
    {
     "data": {
      "text/html": [
       "<div>\n",
       "<style scoped>\n",
       "    .dataframe tbody tr th:only-of-type {\n",
       "        vertical-align: middle;\n",
       "    }\n",
       "\n",
       "    .dataframe tbody tr th {\n",
       "        vertical-align: top;\n",
       "    }\n",
       "\n",
       "    .dataframe thead th {\n",
       "        text-align: right;\n",
       "    }\n",
       "</style>\n",
       "<table border=\"1\" class=\"dataframe\">\n",
       "  <thead>\n",
       "    <tr style=\"text-align: right;\">\n",
       "      <th></th>\n",
       "      <th>Sub-product</th>\n",
       "      <th>Issue</th>\n",
       "      <th>Sub-issue</th>\n",
       "      <th>Consumer complaint narrative</th>\n",
       "      <th>Product</th>\n",
       "    </tr>\n",
       "  </thead>\n",
       "  <tbody>\n",
       "    <tr>\n",
       "      <th>0</th>\n",
       "      <td>Credit reporting</td>\n",
       "      <td>Incorrect information on your report</td>\n",
       "      <td>Account status incorrect</td>\n",
       "      <td>not know half company open account people info...</td>\n",
       "      <td>Credit reporting, credit repair services, or o...</td>\n",
       "    </tr>\n",
       "    <tr>\n",
       "      <th>1</th>\n",
       "      <td>Credit reporting</td>\n",
       "      <td>Incorrect information on your report</td>\n",
       "      <td>Account information incorrect</td>\n",
       "      <td>contact   well understand loan loan originally...</td>\n",
       "      <td>Credit reporting, credit repair services, or o...</td>\n",
       "    </tr>\n",
       "    <tr>\n",
       "      <th>2</th>\n",
       "      <td>Other debt</td>\n",
       "      <td>Written notification about debt</td>\n",
       "      <td>Didn't receive enough information to verify debt</td>\n",
       "      <td>serve summon answer week   prior notice   code...</td>\n",
       "      <td>Debt collection</td>\n",
       "    </tr>\n",
       "  </tbody>\n",
       "</table>\n",
       "</div>"
      ],
      "text/plain": [
       "        Sub-product  ...                                            Product\n",
       "0  Credit reporting  ...  Credit reporting, credit repair services, or o...\n",
       "1  Credit reporting  ...  Credit reporting, credit repair services, or o...\n",
       "2        Other debt  ...                                    Debt collection\n",
       "\n",
       "[3 rows x 5 columns]"
      ]
     },
     "execution_count": 60,
     "metadata": {
      "tags": []
     },
     "output_type": "execute_result"
    }
   ],
   "source": [
    "cc_lemmaed.head(3)"
   ]
  },
  {
   "cell_type": "code",
   "execution_count": 0,
   "metadata": {
    "colab": {},
    "colab_type": "code",
    "id": "WYcB1akJJ71Y"
   },
   "outputs": [],
   "source": [
    "#The hyperparameter c = 3 or c= 5 seems has little results on accuracy.\n",
    "#A result of c = 3 is as follows\n",
    "\n",
    "'''\n",
    "c = 3\n",
    "Logistic Regression > Accuracy:  0.7132104524251619\n",
    "\n",
    "\n",
    "'''  \n",
    "'''\n",
    "c= 3 max_features = 8000\n",
    "   precision    recall  f1-score   support\n",
    "\n",
    "Credit reporting, credit repair services, or other personal consumer reports       0.50      0.38      0.43      3721\n",
    "                                                             Debt collection       0.55      0.59      0.57      4072\n",
    "                                                       Vehicle loan or lease       0.44      0.26      0.33      2368\n",
    "                                   Payday loan, title loan, or personal loan       0.49      0.34      0.40      4710\n",
    "                                                                    Mortgage       0.55      0.61      0.58      6765\n",
    "                                                 Credit card or prepaid card       0.57      0.21      0.31      7897\n",
    "                                                                Student loan       0.70      0.83      0.76     30182\n",
    "                                                 Checking or savings account       0.78      0.86      0.82     24332\n",
    "                          Money transfer, virtual currency, or money service       0.69      0.66      0.67      1674\n",
    "                                                            Credit reporting       0.47      0.20      0.28       374\n",
    "                                                     Bank account or service       0.89      0.94      0.91     14411\n",
    "                                                                 Credit card       0.14      0.01      0.03        73\n",
    "                                                             Money transfers       0.43      0.20      0.27       437\n",
    "                                                               Consumer Loan       0.50      0.34      0.41      1354\n",
    "                                                                Prepaid card       0.61      0.43      0.50       362\n",
    "                                                                 Payday loan       0.86      0.86      0.86      5911\n",
    "                                                     Other financial service       0.49      0.37      0.42      1758\n",
    "                                                            Virtual currency       1.00      0.25      0.40         4\n",
    "\n",
    "                                                                    accuracy                           0.71    110405\n",
    "                                                                   macro avg       0.59      0.46      0.50    110405\n",
    "                                                                weighted avg       0.70      0.71      0.69    110405\n",
    "\n",
    "'''\n"
   ]
  },
  {
   "cell_type": "markdown",
   "metadata": {
    "colab_type": "text",
    "id": "pzZ_sNvLuyPG"
   },
   "source": [
    "## Q5. (Extra credit) Answer the questions in #4 for subproduct, issue-and sub-issue\n",
    "\n",
    "For sub- product:\n",
    "\n",
    "- The overall accuracy for sub product is low (58%), the number of unique classes is 75. Thus there will be more unbalanced class data for each category. And the execution time is large (3 times longer than product).\n",
    "- The best support is Store credit card with 0.82 f1 score.\n",
    "\n",
    "For sub-issue:\n",
    "\n",
    "- The overall accuracy is even lower 0.38113 with 216 unique Sub-issue classes"
   ]
  },
  {
   "cell_type": "code",
   "execution_count": 0,
   "metadata": {
    "colab": {
     "base_uri": "https://localhost:8080/",
     "height": 85
    },
    "colab_type": "code",
    "id": "JQMTxQHWqOZg",
    "outputId": "869330fd-9c58-4a29-a1f6-8f9bbe5bf69d"
   },
   "outputs": [
    {
     "name": "stdout",
     "output_type": "stream",
     "text": [
      "Unique Product classes:18\n",
      "Unique Sub-product classes:76\n",
      "Unique Issue classes:161\n",
      "Unique Sub-issue classes:216\n"
     ]
    }
   ],
   "source": [
    "from collections import Counter\n",
    "print('Unique Product classes:' + str(len(Counter(cc_lemmaed['Product']))))\n",
    "print('Unique Sub-product classes:' +str(len(Counter(cc_lemmaed['Sub-product']))))\n",
    "print('Unique Issue classes:' + str(len(Counter(cc_lemmaed['Issue']))))\n",
    "print('Unique Sub-issue classes:' + str(len(Counter(cc_lemmaed['Sub-issue']))))\n"
   ]
  },
  {
   "cell_type": "code",
   "execution_count": 0,
   "metadata": {
    "colab": {
     "base_uri": "https://localhost:8080/",
     "height": 309
    },
    "colab_type": "code",
    "id": "2T1iN5x3vxUU",
    "outputId": "0103f051-bdd7-4610-a49a-44d22b6a4d68"
   },
   "outputs": [
    {
     "name": "stdout",
     "output_type": "stream",
     "text": [
      "==========Train/Test split==========\n",
      "(292083,) (292083,)\n",
      "(97362,) (97362,)\n",
      "==========LabelEncoder for Sub-product==========\n",
      "(292083,)\n",
      "(97362,)\n",
      "==========TfidfVectorizer for Consumer complaint narrative==========\n",
      "(292083, 8000)\n",
      "(97362, 8000)\n"
     ]
    },
    {
     "name": "stderr",
     "output_type": "stream",
     "text": [
      "/usr/local/lib/python3.6/dist-packages/sklearn/linear_model/logistic.py:432: FutureWarning: Default solver will be changed to 'lbfgs' in 0.22. Specify a solver to silence this warning.\n",
      "  FutureWarning)\n",
      "/usr/local/lib/python3.6/dist-packages/sklearn/linear_model/logistic.py:469: FutureWarning: Default multi_class will be changed to 'auto' in 0.22. Specify the multi_class option to silence this warning.\n",
      "  \"this warning.\", FutureWarning)\n"
     ]
    },
    {
     "name": "stdout",
     "output_type": "stream",
     "text": [
      "Logistic Regression > Accuracy:  0.5894804954705121\n",
      "CPU times: user 22min 32s, sys: 3.4 s, total: 22min 35s\n",
      "Wall time: 22min 36s\n"
     ]
    }
   ],
   "source": [
    "%%time\n",
    "import pandas as pd\n",
    "\n",
    "x_name = 'Consumer complaint narrative'\n",
    "y_name = 'Sub-product'\n",
    "\n",
    "cc_lemmaed_product = cc_lemmaed[[x_name,y_name]].copy()\n",
    "cc_lemmaed_product = cc_lemmaed_product.dropna(how= 'any')\n",
    "\n",
    "df = cc_lemmaed_product\n",
    "cc_X = df[x_name]\n",
    "cc_y = df[y_name]\n",
    "\n",
    "sample_size = df.shape[0] #100000\n",
    "X = cc_X[:sample_size]\n",
    "y = cc_y[:sample_size]\n",
    "train_x, valid_x, train_y, valid_y = train_test_split(X, y,stratify=y, \n",
    "                                                    test_size=0.25)\n",
    "print(\"=\"*10 + 'Train/Test split' +\"=\"*10 )\n",
    "print(train_x.shape,train_y.shape)\n",
    "print(valid_x.shape,valid_y.shape)\n",
    "\n",
    "# transform 'product' non-numerical labels to numeric\n",
    "enc = preprocessing.LabelEncoder()\n",
    "train_y = enc.fit_transform(train_y)\n",
    "valid_y = enc.fit_transform(valid_y)\n",
    "print(\"=\"*10 + 'LabelEncoder for ' + y_name +\"=\"*10 )\n",
    "print(train_y.shape)\n",
    "print(valid_y.shape)\n",
    "#   return train_x, valid_x, train_y, valid_y\n",
    "\n",
    "\n",
    "# unigram model, max_features = 8000\n",
    "tfidf_vect = TfidfVectorizer(analyzer='word', token_pattern=r'\\w{1,}', max_features=8000)\n",
    "tfidf_vect.fit(X)\n",
    "xtrain_tfidf =  tfidf_vect.transform(train_x)\n",
    "xvalid_tfidf =  tfidf_vect.transform(valid_x)\n",
    "print(\"=\"*10 + 'TfidfVectorizer for ' + x_name +\"=\"*10 )\n",
    "\n",
    "print(xtrain_tfidf.shape)\n",
    "print(xvalid_tfidf.shape)\n",
    "\n",
    "# train model\n",
    "lr = LogisticRegression(C=5)\n",
    "lr.fit(xtrain_tfidf,train_y)\n",
    "lr_predict = lr.predict(xvalid_tfidf)\n",
    "lr_accuracy = metrics.accuracy_score(lr_predict, valid_y)\n",
    "print (\"Logistic Regression > Accuracy: \", lr_accuracy)"
   ]
  },
  {
   "cell_type": "code",
   "execution_count": 0,
   "metadata": {
    "colab": {
     "base_uri": "https://localhost:8080/",
     "height": 1000
    },
    "colab_type": "code",
    "id": "0UgHjt3vwRQD",
    "outputId": "912cdfcd-ff78-4101-8215-e1e569433a07"
   },
   "outputs": [
    {
     "name": "stdout",
     "output_type": "stream",
     "text": [
      "                                            precision    recall  f1-score   support\n",
      "\n",
      "                          Credit reporting       0.31      0.12      0.17        68\n",
      "                                Other debt       0.31      0.03      0.06       266\n",
      "                              Medical debt       0.38      0.08      0.13       507\n",
      "                                      Loan       0.53      0.44      0.48        73\n",
      "                             I do not know       0.50      0.06      0.11        33\n",
      "                          Credit card debt       0.00      0.00      0.00        13\n",
      "                          Installment loan       0.38      0.10      0.16        29\n",
      "                              FHA mortgage       0.70      0.87      0.78      5909\n",
      "General-purpose credit card or charge card       0.31      0.14      0.19      1244\n",
      "            Federal student loan servicing       0.37      0.48      0.42      3641\n",
      "                                 Auto debt       0.41      0.51      0.45      3735\n",
      "            Other personal consumer report       0.39      0.25      0.31      1880\n",
      "                          Checking account       0.42      0.36      0.39      3137\n",
      "                               VA mortgage       0.00      0.00      0.00        10\n",
      "                 Private student loan debt       0.38      0.07      0.11       152\n",
      "                         Store credit card       0.75      0.92      0.82     29480\n",
      "                    Credit repair services       0.17      0.02      0.04        46\n",
      "               CD (Certificate of Deposit)       0.46      0.35      0.40       721\n",
      "                               Payday loan       0.00      0.00      0.00         1\n",
      "Home equity loan or line of credit (HELOC)       0.45      0.41      0.43      2664\n",
      "                    Other type of mortgage       0.21      0.03      0.05       137\n",
      "          Other banking product or service       0.36      0.06      0.11       247\n",
      "                Conventional home mortgage       0.68      0.80      0.73      3353\n",
      "                     Check cashing service       0.67      0.09      0.15        23\n",
      "                 Federal student loan debt       0.38      0.22      0.28       182\n",
      "                           Savings account       0.65      0.75      0.70      5145\n",
      "                  Mobile or digital wallet       0.46      0.35      0.40       271\n",
      "                   Personal line of credit       0.32      0.19      0.24        31\n",
      "              Domestic (US) money transfer       0.19      0.13      0.15        38\n",
      "              General-purpose prepaid card       0.50      0.16      0.24        63\n",
      "                                     Lease       0.00      0.00      0.00        20\n",
      "                      Private student loan       0.36      0.21      0.26       526\n",
      "                             Mortgage debt       0.38      0.19      0.26       376\n",
      "                   Government benefit card       0.43      0.54      0.47      4692\n",
      "                                 Gift card       0.00      0.00      0.00        25\n",
      "                          Payday loan debt       0.43      0.39      0.41      1313\n",
      "                          Virtual currency       0.65      0.59      0.62       401\n",
      "                           Debt settlement       0.50      0.30      0.38       316\n",
      "              International money transfer       0.43      0.41      0.42      1441\n",
      "                                Title loan       0.43      0.26      0.32      1748\n",
      "                          Reverse mortgage       0.52      0.42      0.46      2450\n",
      "                              Payroll card       0.33      0.22      0.27       405\n",
      "       Traveler's check or cashier's check       0.50      0.05      0.09        21\n",
      "                 Refund anticipation check       0.72      0.34      0.46        38\n",
      "                               Money order       0.45      0.15      0.23       227\n",
      "                 Foreign currency exchange       0.41      0.17      0.24       339\n",
      "                      Student prepaid card       0.52      0.46      0.49      1609\n",
      "                                 Pawn loan       0.35      0.25      0.29      3097\n",
      "               (CD) Certificate of deposit       0.28      0.10      0.15       869\n",
      "                  Non-federal student loan       0.33      0.05      0.08       333\n",
      "               Conventional fixed mortgage       0.39      0.37      0.38      4127\n",
      "        Home equity loan or line of credit       0.29      0.07      0.11       809\n",
      "                                   Medical       0.67      0.15      0.25       550\n",
      "                               Credit card       0.67      0.14      0.24        14\n",
      "                              Vehicle loan       0.26      0.04      0.07       456\n",
      "    Conventional adjustable mortgage (ARM)       0.00      0.00      0.00        12\n",
      "     Other (i.e. phone, health club, etc.)       0.47      0.39      0.42       953\n",
      "                Other bank product/service       0.37      0.15      0.22       548\n",
      "                            Other mortgage       0.36      0.19      0.25        83\n",
      "                           ID prepaid card       0.34      0.07      0.11       245\n",
      "                                      Auto       0.47      0.21      0.29      1121\n",
      "                      General purpose card       0.29      0.04      0.07       245\n",
      "                             Vehicle lease       0.00      0.00      0.00        20\n",
      "                                  Mortgage       0.78      0.56      0.65       162\n",
      "                      Federal student loan       0.58      0.30      0.40       504\n",
      "        Cashing a check without an account       0.57      0.41      0.48      1225\n",
      "                     Gift or merchant card       0.00      0.00      0.00         1\n",
      "                             Check cashing       0.54      0.22      0.31       195\n",
      "                             Mobile wallet       0.00      0.00      0.00         5\n",
      "                             Credit repair       0.33      0.07      0.11        30\n",
      "           Government benefit payment card       0.00      0.00      0.00         5\n",
      "                              Transit card       0.58      0.28      0.38       799\n",
      "                Other special purpose card       0.45      0.27      0.34       240\n",
      "               Traveler’s/Cashier’s checks       0.38      0.28      0.32      1285\n",
      "    Electronic Benefit Transfer / EBT card       0.68      0.69      0.68       383\n",
      "\n",
      "                                  accuracy                           0.59     97362\n",
      "                                 macro avg       0.39      0.24      0.27     97362\n",
      "                              weighted avg       0.56      0.59      0.56     97362\n",
      "\n"
     ]
    },
    {
     "name": "stderr",
     "output_type": "stream",
     "text": [
      "/usr/local/lib/python3.6/dist-packages/sklearn/metrics/classification.py:1437: UndefinedMetricWarning: Precision and F-score are ill-defined and being set to 0.0 in labels with no predicted samples.\n",
      "  'precision', 'predicted', average, warn_for)\n"
     ]
    }
   ],
   "source": [
    "print(classification_report(valid_y, lr_predict,target_names=y.unique()))\n"
   ]
  },
  {
   "cell_type": "code",
   "execution_count": 0,
   "metadata": {
    "colab": {
     "base_uri": "https://localhost:8080/",
     "height": 34
    },
    "colab_type": "code",
    "id": "aP-hSxMnhRBD",
    "outputId": "c1671fbd-000f-41df-f466-f5fb1a4b16d8"
   },
   "outputs": [
    {
     "data": {
      "text/plain": [
       "(441618, 2)"
      ]
     },
     "execution_count": 15,
     "metadata": {
      "tags": []
     },
     "output_type": "execute_result"
    }
   ],
   "source": [
    "cc_lemmaed_product.shape"
   ]
  },
  {
   "cell_type": "code",
   "execution_count": 0,
   "metadata": {
    "colab": {
     "base_uri": "https://localhost:8080/",
     "height": 309
    },
    "colab_type": "code",
    "id": "PDG8rpI4THZv",
    "outputId": "1403248e-10e8-46cf-8047-fcc993bcbb7d"
   },
   "outputs": [
    {
     "name": "stdout",
     "output_type": "stream",
     "text": [
      "==========Train/Test split==========\n",
      "(240204,) (240204,)\n",
      "(80069,) (80069,)\n",
      "==========LabelEncoder for Sub-issue==========\n",
      "(240204,)\n",
      "(80069,)\n",
      "==========TfidfVectorizer for Consumer complaint narrative==========\n",
      "(240204, 8000)\n",
      "(80069, 8000)\n"
     ]
    },
    {
     "name": "stderr",
     "output_type": "stream",
     "text": [
      "/usr/local/lib/python3.6/dist-packages/sklearn/linear_model/logistic.py:432: FutureWarning: Default solver will be changed to 'lbfgs' in 0.22. Specify a solver to silence this warning.\n",
      "  FutureWarning)\n",
      "/usr/local/lib/python3.6/dist-packages/sklearn/linear_model/logistic.py:469: FutureWarning: Default multi_class will be changed to 'auto' in 0.22. Specify the multi_class option to silence this warning.\n",
      "  \"this warning.\", FutureWarning)\n"
     ]
    },
    {
     "name": "stdout",
     "output_type": "stream",
     "text": [
      "Logistic Regression > Accuracy:  0.38113377212154514\n",
      "CPU times: user 38min 48s, sys: 2.62 s, total: 38min 51s\n",
      "Wall time: 38min 53s\n"
     ]
    }
   ],
   "source": [
    "%%time\n",
    "import pandas as pd\n",
    "\n",
    "x_name = 'Consumer complaint narrative'\n",
    "y_name = 'Sub-issue'\n",
    "\n",
    "cc_lemmaed_product = cc_lemmaed[[x_name,y_name]].copy()\n",
    "cc_lemmaed_product = cc_lemmaed_product.dropna(how= 'any')\n",
    "\n",
    "df = cc_lemmaed_product\n",
    "cc_X = df[x_name]\n",
    "cc_y = df[y_name]\n",
    "\n",
    "sample_size = df.shape[0] #100000\n",
    "X = cc_X[:sample_size]\n",
    "y = cc_y[:sample_size]\n",
    "train_x, valid_x, train_y, valid_y = train_test_split(X, y,stratify=y, \n",
    "                                                    test_size=0.25)\n",
    "print(\"=\"*10 + 'Train/Test split' +\"=\"*10 )\n",
    "print(train_x.shape,train_y.shape)\n",
    "print(valid_x.shape,valid_y.shape)\n",
    "\n",
    "# transform 'product' non-numerical labels to numeric\n",
    "enc = preprocessing.LabelEncoder()\n",
    "train_y = enc.fit_transform(train_y)\n",
    "valid_y = enc.fit_transform(valid_y)\n",
    "print(\"=\"*10 + 'LabelEncoder for ' + y_name +\"=\"*10 )\n",
    "print(train_y.shape)\n",
    "print(valid_y.shape)\n",
    "#   return train_x, valid_x, train_y, valid_y\n",
    "\n",
    "\n",
    "# unigram model, max_features = 8000\n",
    "tfidf_vect = TfidfVectorizer(analyzer='word', token_pattern=r'\\w{1,}', max_features=8000)\n",
    "tfidf_vect.fit(X)\n",
    "xtrain_tfidf =  tfidf_vect.transform(train_x)\n",
    "xvalid_tfidf =  tfidf_vect.transform(valid_x)\n",
    "print(\"=\"*10 + 'TfidfVectorizer for ' + x_name +\"=\"*10 )\n",
    "\n",
    "print(xtrain_tfidf.shape)\n",
    "print(xvalid_tfidf.shape)\n",
    "\n",
    "# train model\n",
    "lr = LogisticRegression(C=5)\n",
    "lr.fit(xtrain_tfidf,train_y)\n",
    "lr_predict = lr.predict(xvalid_tfidf)\n",
    "lr_accuracy = metrics.accuracy_score(lr_predict, valid_y)\n",
    "print (\"Logistic Regression > Accuracy: \", lr_accuracy)"
   ]
  },
  {
   "cell_type": "code",
   "execution_count": 0,
   "metadata": {
    "colab": {
     "base_uri": "https://localhost:8080/",
     "height": 1000
    },
    "colab_type": "code",
    "id": "MGrNojjchE7d",
    "outputId": "cabe439d-2e5e-476b-c345-2d0f140b43bb"
   },
   "outputs": [
    {
     "name": "stdout",
     "output_type": "stream",
     "text": [
      "                                                                                       precision    recall  f1-score   support\n",
      "\n",
      "                                                             Account status incorrect       0.34      0.35      0.35      3274\n",
      "                                                        Account information incorrect       0.32      0.12      0.17        76\n",
      "                                     Didn't receive enough information to verify debt       0.00      0.00      0.00         3\n",
      "                                                                    Debt is not yours       0.31      0.20      0.24      1285\n",
      "                                  Information is missing that should be on the report       0.35      0.46      0.40      3429\n",
      "                                                    Debt was result of identity theft       0.28      0.07      0.11       685\n",
      "                                                  Information belongs to someone else       0.50      0.15      0.23        41\n",
      "                           You told them to stop contacting you, but they keep trying       0.38      0.21      0.27        42\n",
      "                             Credit inquiries on your report that you don't recognize       0.54      0.60      0.57       171\n",
      "Difficulty submitting a dispute or getting information about a dispute over the phone       0.24      0.26      0.25      1869\n",
      "                                  Was not notified of investigation status or results       0.43      0.10      0.16        63\n",
      "                              Their investigation did not fix an error on your report       0.23      0.15      0.18       296\n",
      "                                                       Personal information incorrect       0.40      0.26      0.32        69\n",
      "                                                           Frequent or repeated calls       0.32      0.16      0.22       202\n",
      "                                                     Can't use card to make purchases       0.36      0.39      0.38       364\n",
      "                                                    Don't agree with the fees charged       0.00      0.00      0.00        23\n",
      "                                 Threatened or suggested your credit would be damaged       0.29      0.11      0.16       112\n",
      "                                            Didn't receive notice of right to dispute       0.57      0.11      0.19        71\n",
      "                                           Problem with personal statement of dispute       0.67      0.07      0.12        59\n",
      "                                                                      Fraudulent loan       0.35      0.30      0.32       264\n",
      "                                                 Public record information inaccurate       0.27      0.34      0.30       389\n",
      "                                                                        Other problem       0.17      0.10      0.12       250\n",
      "                                                          Company closed your account       0.18      0.18      0.18       427\n",
      "                                                                   Application denied       0.00      0.00      0.00        32\n",
      "                                         Old information reappears or never goes away       0.00      0.00      0.00        47\n",
      "                                         Didn't receive services that were advertised       0.23      0.07      0.10       105\n",
      "                                                       Problem during payment process       0.23      0.10      0.14       125\n",
      "     Credit card company isn't resolving a dispute about a purchase on your statement       0.39      0.26      0.31       177\n",
      "                                                     Confusing or missing disclosures       0.39      0.34      0.36        91\n",
      "                                              Threatened to sue you for very old debt       0.31      0.18      0.23       232\n",
      "                                                    Problem using a debit or ATM card       0.37      0.35      0.36       448\n",
      "                                                 Problem making or receiving payments       0.18      0.13      0.15        69\n",
      "                                                                        Debt was paid       0.00      0.00      0.00         3\n",
      "                                                                    Problem with fees       0.11      0.04      0.05        28\n",
      "                                                     Problem with paying off the loan       0.55      0.12      0.19        51\n",
      "                                                             Can't close your account       0.44      0.54      0.48       236\n",
      "                                                        Overdrafts and overdraft fees       0.38      0.11      0.17        79\n",
      "                                                 Investigation took more than 30 days       0.50      0.60      0.54       625\n",
      "                       You never received your bill or did not know a payment was due       0.00      0.00      0.00        20\n",
      "                    Card was charged for something you did not purchase with the card       0.00      0.00      0.00        13\n",
      "                                     Used obscene, profane, or other abusive language       0.29      0.20      0.24       205\n",
      "             Problem canceling credit monitoring or identify theft protection service       0.27      0.09      0.14        32\n",
      "                                                            Problem accessing account       0.00      0.00      0.00        27\n",
      "                                              Talked to a third-party about your debt       0.25      0.19      0.22       150\n",
      "                                                            Problem with fees charged       0.48      0.07      0.13       174\n",
      "                                                                          Fee problem       0.00      0.00      0.00        17\n",
      "                      Debt was already discharged in bankruptcy and is no longer owed       0.00      0.00      0.00        73\n",
      "                                                       Transaction was not authorized       0.00      0.00      0.00         7\n",
      "                                                             Deposits and withdrawals       0.39      0.22      0.28       128\n",
      "                                        Reporting company used your report improperly       1.00      0.10      0.18        10\n",
      "                                                    Attempted to collect wrong amount       0.49      0.68      0.57       985\n",
      "                     Notification didn't disclose it was an attempt to collect a debt       0.43      0.45      0.44        97\n",
      "                                                     Fees charged for closing account       0.37      0.35      0.36       105\n",
      "                     Loan balance remaining after the vehicle is repossessed and sold       0.33      0.07      0.12        27\n",
      "                                                                      Billing problem       0.54      0.79      0.64      2910\n",
      "                                                                       Banking errors       0.25      0.30      0.27      2526\n",
      "                                                            Charged too much interest       0.28      0.39      0.33      3239\n",
      "                                         Funds not handled or disbursed as instructed       0.56      0.28      0.38       496\n",
      "                                                       Called before 8am or after 9pm       0.35      0.20      0.25       328\n",
      "                                                        Problem with customer service       0.35      0.20      0.25       166\n",
      "                             Overcharged for something you did purchase with the card       0.34      0.51      0.41      2589\n",
      "                                       Problem getting your free annual credit report       0.49      0.30      0.37      1159\n",
      "                                                Problem with rewards from credit card       0.42      0.17      0.24        48\n",
      "                                   Sued you without properly notifying you of lawsuit       1.00      0.12      0.22         8\n",
      "                                    Other problem getting your report or credit score       0.29      0.17      0.22       103\n",
      "                                                         Add-on products and services       0.39      0.54      0.46       614\n",
      "                                     Card opened as result of identity theft or fraud       0.33      0.17      0.22        12\n",
      "                                           Seized or attempted to seize your property       0.54      0.51      0.52       317\n",
      "                                                      Delay in processing application       0.32      0.30      0.31      1692\n",
      "                                                         Billing dispute for services       0.30      0.25      0.27       953\n",
      "                       Impersonated attorney, law enforcement, or government official       0.53      0.24      0.33       107\n",
      "                                                       Problem related to refinancing       0.65      0.85      0.74       227\n",
      "                           Trouble using the card to spend money in a store or online       0.29      0.13      0.18       666\n",
      "                                                      Sent card you never applied for       0.17      0.14      0.15       323\n",
      "                                               Funds not received from closed account       0.17      0.07      0.10       214\n",
      "                                       Didn't receive advertised or promotional terms       0.00      0.00      0.00         2\n",
      "                            Confusing or misleading advertising about the credit card       0.43      0.58      0.50        45\n",
      "                               Indicated you were committing crime by not paying debt       0.39      0.35      0.37       266\n",
      "                                   Trouble getting, activating, or registering a card       0.31      0.09      0.14        45\n",
      "                                            Didn't receive terms that were advertised       1.00      0.50      0.67         6\n",
      "                                             Can't stop withdrawals from your account       0.28      0.18      0.22       114\n",
      "                                          Loan sold or transferred to another company       0.41      0.62      0.49      1764\n",
      "                                                     Denied request to lower payments       0.17      0.10      0.13       262\n",
      "           Money was taken from your account on the wrong day or for the wrong amount       0.36      0.23      0.28       123\n",
      "                       Threatened to arrest you or take you to jail if you do not pay       0.16      0.11      0.13       298\n",
      "                                             Received bad information about your loan       0.00      0.00      0.00        12\n",
      "          Received unsolicited financial product or insurance offers after opting out       0.21      0.06      0.10       109\n",
      "                     Credit card company won't increase or decrease your credit limit       0.27      0.13      0.18       184\n",
      "                                          Trouble with how payments are being handled       0.00      0.00      0.00       151\n",
      "                                                                 Trouble closing card       0.44      0.04      0.08        96\n",
      "                                                            Unable to open an account       0.00      0.00      0.00        35\n",
      "               Sued you in a state where you do not live or did not sign for the debt       0.00      0.00      0.00        80\n",
      "Credit card company won't work with you while you're going through financial hardship       0.49      0.69      0.57      6293\n",
      "                                   Confusing or misleading advertising about the card       0.00      0.00      0.00        67\n",
      "                                  Information that should be on the report is missing       0.42      0.19      0.27       375\n",
      "                                                 Unexpected increase in interest rate       0.31      0.19      0.23      1776\n",
      "                                                              Contacted your employer       0.00      0.00      0.00        12\n",
      "                  Card company isn't resolving a dispute about a purchase or transfer       0.51      0.36      0.42       671\n",
      "                                                                      Cashing a check       0.58      0.20      0.30       241\n",
      "                                           Contacted you after you asked them to stop       0.24      0.09      0.13       124\n",
      "                                                                   Late or other fees       0.21      0.05      0.08        83\n",
      "                                             Non-sufficient funds and associated fees       0.00      0.00      0.00        17\n",
      "                       Report provided to employer without your written authorization       0.42      0.34      0.37       101\n",
      "                                                  Account opened as a result of fraud       0.36      0.34      0.35       120\n",
      "                                               Problem lowering your monthly payments       0.14      0.03      0.05        35\n",
      "                                    Lender trying to repossess or disable the vehicle       0.00      0.00      0.00        55\n",
      "                                                             Information is incorrect       0.11      0.03      0.04       116\n",
      "                                                                 Problem with renewal       0.08      0.03      0.04       119\n",
      "                              Can't get other flexible options for repaying your loan       0.56      0.32      0.41       600\n",
      "                                           Problem getting a working replacement card       0.22      0.06      0.09        85\n",
      "                                                        Problem with balance transfer       0.53      0.14      0.22       151\n",
      "                                                                          Denied loan       0.29      0.21      0.25      1109\n",
      "                                                       Problem with the interest rate       0.00      0.00      0.00        92\n",
      "                                           Changes in terms mid-deal or after closing       0.31      0.23      0.26       949\n",
      "                                                              Deposits or withdrawals       0.23      0.19      0.21       439\n",
      "          Problem with additional add-on products or services purchased with the loan       0.34      0.34      0.34       391\n",
      "                                                  Bounced checks or returned payments       0.00      0.00      0.00         3\n",
      "                                                                       Privacy issues       0.00      0.00      0.00        52\n",
      "                                       Collected or attempted to collect exempt funds       0.00      0.00      0.00         3\n",
      "                                       Problem while selling or giving up the vehicle       0.44      0.60      0.50       252\n",
      "                                           Received unwanted marketing or advertising       0.38      0.27      0.32       382\n",
      "                 Problem with additional products or services purchased with the loan       0.54      0.56      0.55       787\n",
      "                          Told you not to respond to a lawsuit they filed against you       0.40      0.09      0.15        43\n",
      "                                       Problem with product or service terms changing       0.43      0.42      0.42       180\n",
      "                        Termination fees or other problem when ending the lease early       0.00      0.00      0.00         4\n",
      "                                              Credit card company forcing arbitration       0.00      0.00      0.00        12\n",
      "                               Need information about your loan balance or loan terms       0.43      0.31      0.36       121\n",
      "                                              Can't temporarily delay making payments       0.00      0.00      0.00        37\n",
      "              Unable to receive car title or other problem after the loan is paid off       0.37      0.40      0.38       491\n",
      "                                               Contacted you instead of your attorney       0.00      0.00      0.00         4\n",
      "                    Charged for a purchase or transfer you did not make with the card       0.33      0.10      0.16        29\n",
      "                                                                        Credit denial       0.49      0.49      0.49       304\n",
      "                                     Confusing or misleading advertising or marketing       0.32      0.22      0.26       260\n",
      "                    Overcharged for a purchase or transfer you did make with the card       0.54      0.43      0.48       272\n",
      "                                                 Trouble using the card to pay a bill       0.22      0.14      0.17       278\n",
      "                                                   Keep getting calls about your loan       0.27      0.11      0.15       130\n",
      "                                                  Confusing or misleading advertising       0.00      0.00      0.00        22\n",
      "                       Problem after you declared or threatened to declare bankruptcy       0.45      0.49      0.47       375\n",
      "                                 Problem using the card to withdraw money from an ATM       0.00      0.00      0.00         9\n",
      "                                           Trouble getting information about the card       0.00      0.00      0.00        10\n",
      "     Excess mileage, damage, or wear fees, or other problem after the lease is finish       0.43      0.08      0.14        36\n",
      "                                                   Problem with signing the paperwork       0.00      0.00      0.00         1\n",
      "                  Problem when attempting to purchase vehicle at the end of the lease       0.00      0.00      0.00         4\n",
      "                                                           Problem with cash advances       0.00      0.00      0.00         6\n",
      "                                 Changes in terms from what was offered or advertised       0.42      0.38      0.40        78\n",
      "                                           Trouble getting a working replacement card       0.42      0.36      0.39        61\n",
      "                                                          High-pressure sales tactics       0.00      0.00      0.00         9\n",
      "                                                       Problem with convenience check       0.00      0.00      0.00         4\n",
      "                                       Account sold or transferred to another company       0.18      0.12      0.15       295\n",
      "                                                                 Filed for bankruptcy       0.83      0.45      0.59        11\n",
      "                                                          Problem extending the lease       0.47      0.58      0.52       604\n",
      "                                                                 Problem adding money       0.27      0.15      0.19       119\n",
      "                          Problem with a check written from your prepaid card account       0.00      0.00      0.00         4\n",
      "                            Was signed up for overdraft on card, but don't want to be       0.32      0.18      0.23        73\n",
      "                                                              Problem with a trade-in       0.32      0.09      0.13        82\n",
      "                                                                    Overdraft charges       0.34      0.09      0.14       529\n",
      "                               Threatened to turn you in to immigration or deport you       0.31      0.04      0.08        92\n",
      "                                                       Problem with fees or penalties       0.00      0.00      0.00         4\n",
      "                                     Qualified for a better loan than the one offered       0.64      0.63      0.63       252\n",
      "                                                          Problem with direct deposit       0.00      0.00      0.00         7\n",
      "                        Don't want a card provided by your employer or the government       0.15      0.02      0.04       424\n",
      "                                                                       Account status       0.33      0.29      0.31        73\n",
      "                                                   Reinserted previously deleted info       0.49      0.49      0.49       671\n",
      "                                                Having problems with customer service       0.47      0.45      0.46       868\n",
      "                                                                        Public record       0.00      0.00      0.00         2\n",
      "                                              Need information about my balance/terms       0.60      0.21      0.32        14\n",
      "                                                                     Debt is not mine       0.14      0.11      0.12       475\n",
      "                                                              Information is not mine       0.27      0.39      0.32       751\n",
      "                                                 Not given enough info to verify debt       0.00      0.00      0.00        13\n",
      "                                                Trouble with how payments are handled       0.31      0.11      0.16        47\n",
      "                                             No notice of investigation status/result       1.00      0.11      0.21        35\n",
      "                                                 Right to dispute notice not received       0.00      0.00      0.00        13\n",
      "                                                   Can't get flexible payment options       0.50      0.36      0.41       507\n",
      "                                                 Sued w/o proper notification of suit       0.64      0.21      0.32       354\n",
      "                                                     Keep getting calls about my loan       1.00      0.07      0.12        45\n",
      "                                               Received bad information about my loan       0.00      0.00      0.00        13\n",
      "                                                        Don't agree with fees charged       0.64      0.60      0.62      1560\n",
      "                                               Not disclosed as an attempt to collect       0.25      0.10      0.14       638\n",
      "                                                Talked to a third party about my debt       0.32      0.19      0.24       157\n",
      "                                              Called after sent written cease of comm       0.43      0.27      0.34       106\n",
      "                                                   Can't decrease my monthly payments       0.38      0.19      0.25        75\n",
      "                                                 Impersonated an attorney or official       0.21      0.10      0.14       117\n",
      "                                                Contacted employer after asked not to       0.00      0.00      0.00        37\n",
      "                                                                        Account terms       0.33      0.03      0.05        37\n",
      "                                                  Attempted to/Collected exempt funds       0.24      0.20      0.22       179\n",
      "                                                                 Personal information       0.29      0.18      0.22       387\n",
      "                                                    Problem with statement of dispute       0.32      0.18      0.23       229\n",
      "                                                    Debt resulted from identity theft       0.18      0.07      0.10        30\n",
      "                                                Problem getting my free annual report       0.37      0.52      0.44      5883\n",
      "                                                            Account terms and changes       0.30      0.26      0.28       178\n",
      "                                                    Threatened to sue on too old debt       0.26      0.12      0.16       732\n",
      "                                                          Investigation took too long       0.34      0.21      0.26       145\n",
      "                                                Used obscene/profane/abusive language       0.29      0.21      0.25       233\n",
      "                                                       Inadequate help over the phone       0.26      0.26      0.26       364\n",
      "                                                      Threatened to take legal action       0.19      0.12      0.15       316\n",
      "                                                            Problem with fraud alerts       0.00      0.00      0.00         1\n",
      "                                               Problem getting report or credit score       0.00      0.00      0.00        35\n",
      "                                                      Report improperly shared by CRC       0.26      0.26      0.26       364\n",
      "                                                                      Billing dispute       0.33      0.11      0.16        28\n",
      "                                                 Threatened arrest/jail if do not pay       1.00      0.10      0.18        10\n",
      "                                                    Contacted me after I asked not to       0.00      0.00      0.00        12\n",
      "                                                    Debt was discharged in bankruptcy       0.00      0.00      0.00        17\n",
      "                                                   Seized/Attempted to seize property       0.00      0.00      0.00         4\n",
      "                                                 Sued where didn't live/sign for debt       0.30      0.33      0.31        43\n",
      "                                                  Can't temporarily postpone payments       0.35      0.37      0.36       720\n",
      "                                                Problem cancelling or closing account       0.27      0.29      0.28       641\n",
      "                                                 Indicated committed crime not paying       0.43      0.29      0.34       139\n",
      "                                                             Can't qualify for a loan       0.58      0.54      0.56        96\n",
      "                                                  Contacted me instead of my attorney       0.52      0.29      0.37        86\n",
      "                                                            Called outside of 8am-9pm       0.23      0.15      0.18       201\n",
      "                                               Indicated shouldn't respond to lawsuit       0.31      0.17      0.22       149\n",
      "                                               Qualify for a better loan than offered       0.50      0.15      0.23       558\n",
      "                                             Received marketing offer after opted out       0.00      0.00      0.00         1\n",
      "                                              Report shared with employer w/o consent       0.58      0.60      0.59       210\n",
      "                                             Receiving unwanted marketing/advertising       0.32      0.21      0.25       523\n",
      "\n",
      "                                                                             accuracy                           0.38     80069\n",
      "                                                                            macro avg       0.29      0.19      0.21     80069\n",
      "                                                                         weighted avg       0.37      0.38      0.36     80069\n",
      "\n"
     ]
    },
    {
     "name": "stderr",
     "output_type": "stream",
     "text": [
      "/usr/local/lib/python3.6/dist-packages/sklearn/metrics/classification.py:1437: UndefinedMetricWarning: Precision and F-score are ill-defined and being set to 0.0 in labels with no predicted samples.\n",
      "  'precision', 'predicted', average, warn_for)\n"
     ]
    }
   ],
   "source": [
    "print(classification_report(valid_y, lr_predict,target_names=y.unique()))\n"
   ]
  },
  {
   "cell_type": "code",
   "execution_count": 0,
   "metadata": {
    "colab": {},
    "colab_type": "code",
    "id": "rprt9HQorXo2"
   },
   "outputs": [],
   "source": []
  }
 ],
 "metadata": {
  "accelerator": "TPU",
  "colab": {
   "name": "DSPM_hw3_yaohanj.ipynb",
   "provenance": []
  },
  "kernelspec": {
   "display_name": "Python 3",
   "language": "python",
   "name": "python3"
  },
  "language_info": {
   "codemirror_mode": {
    "name": "ipython",
    "version": 3
   },
   "file_extension": ".py",
   "mimetype": "text/x-python",
   "name": "python",
   "nbconvert_exporter": "python",
   "pygments_lexer": "ipython3",
   "version": "3.7.4"
  }
 },
 "nbformat": 4,
 "nbformat_minor": 1
}
