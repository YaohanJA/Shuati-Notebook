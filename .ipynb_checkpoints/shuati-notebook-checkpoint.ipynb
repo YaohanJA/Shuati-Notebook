{
 "cells": [
  {
   "cell_type": "code",
   "execution_count": 1,
   "metadata": {},
   "outputs": [],
   "source": [
    "def string2integer(s: str) -> int:\n",
    "    num = 0\n",
    "    for i in s:\n",
    "        num = num * 10 + (ord(i) - ord('0'))\n",
    "    return num    "
   ]
  },
  {
   "cell_type": "code",
   "execution_count": 2,
   "metadata": {},
   "outputs": [],
   "source": [
    "def calculator(s: str) -> int:\n",
    "    stack =[]\n",
    "    sign = '+'\n",
    "    num = 0\n",
    "    for i in range(len(s)):\n",
    "        if s[i].isdigit():\n",
    "            num  = num *10 + int(s[i])\n",
    "        if not s[i].isdigit() or i == len(s)-1:\n",
    "            if sign == '+':\n",
    "                stack.append(num)\n",
    "            elif sign == '-':\n",
    "                stack.append(-num)\n",
    "            sign = s[i]\n",
    "            num = 0    \n",
    "    return(sum(stack))     \n",
    "    "
   ]
  },
  {
   "cell_type": "code",
   "execution_count": 3,
   "metadata": {},
   "outputs": [],
   "source": [
    "def calculator(s: str) -> int:\n",
    "    stack =[]\n",
    "    sign = '+'\n",
    "    num = 0\n",
    "    for i in range(len(s)):\n",
    "        if s[i].isdigit():\n",
    "            num  = num *10 + int(s[i])    \n",
    "        if (not s[i].isdigit() and not s[i].isspace()) or i == len(s)-1:\n",
    "            if sign == '+':\n",
    "                stack.append(num)\n",
    "            elif sign == '-':\n",
    "                stack.append(-num)\n",
    "            elif sign == '*':\n",
    "                stack[-1] = stack[-1] * num\n",
    "            elif sign == '/':\n",
    "                stack[-1] = stack[-1] / num\n",
    "            sign = s[i]\n",
    "            num = 0    \n",
    "    return(sum(stack))     \n",
    "    \n"
   ]
  },
  {
   "cell_type": "code",
   "execution_count": 4,
   "metadata": {},
   "outputs": [
    {
     "data": {
      "text/plain": [
       "4"
      ]
     },
     "execution_count": 4,
     "metadata": {},
     "output_type": "execute_result"
    }
   ],
   "source": [
    "calculator(' 1 + 1 +2')"
   ]
  },
  {
   "cell_type": "code",
   "execution_count": 5,
   "metadata": {},
   "outputs": [],
   "source": [
    "def calculator(s: str) -> int:\n",
    "    \n",
    "    def helper(s: list) -> int:\n",
    "        stack =[]\n",
    "        sign = '+'\n",
    "        num = 0\n",
    "        while len(s) > 0:\n",
    "            c = s.pop(0)\n",
    "            if c.isdigit():\n",
    "                num  = num *10 + int(c)  \n",
    "            if c == '(':\n",
    "                num = helper(s)\n",
    "            if (not c.isdigit() and not c.isspace()) or len(s) ==0:\n",
    "                if sign == '+':\n",
    "                    stack.append(num)\n",
    "                elif sign == '-':\n",
    "                    stack.append(-num)\n",
    "                elif sign == '*':\n",
    "                    stack[-1] = stack[-1] * num\n",
    "                elif sign == '/':\n",
    "                    stack[-1] = stack[-1] / num\n",
    "                sign = c\n",
    "                num = 0   \n",
    "            if c == ')':\n",
    "                break\n",
    "        return(sum(stack))    \n",
    "    \n",
    "    return helper(list(s))"
   ]
  },
  {
   "cell_type": "code",
   "execution_count": 6,
   "metadata": {},
   "outputs": [
    {
     "data": {
      "text/plain": [
       "-34"
      ]
     },
     "execution_count": 6,
     "metadata": {},
     "output_type": "execute_result"
    }
   ],
   "source": [
    "calculator('(1+1)-3*3*4-')"
   ]
  },
  {
   "cell_type": "markdown",
   "metadata": {},
   "source": [
    "### next_greater_element"
   ]
  },
  {
   "cell_type": "code",
   "execution_count": 9,
   "metadata": {},
   "outputs": [],
   "source": [
    "def next_greater_element(nums: list) -> list:\n",
    "    res = [0 for _ in nums]\n",
    "    stack = []\n",
    "    for i in range(len(nums)-1,-1, -1):\n",
    "        # stack is not empty\n",
    "        while stack and nums[i] >= stack[-1]:\n",
    "            stack.pop() \n",
    "        #stack is empty    \n",
    "        if not stack:\n",
    "            res[i] = -1\n",
    "        else:\n",
    "            res[i] = stack[-1] \n",
    "        stack.append(nums[i])\n",
    "    return res"
   ]
  },
  {
   "cell_type": "code",
   "execution_count": 10,
   "metadata": {},
   "outputs": [
    {
     "data": {
      "text/plain": [
       "[4, 2, 4, -1, -1]"
      ]
     },
     "execution_count": 10,
     "metadata": {},
     "output_type": "execute_result"
    }
   ],
   "source": [
    "next_greater_element([2,1,2,4,3])"
   ]
  },
  {
   "cell_type": "code",
   "execution_count": 11,
   "metadata": {},
   "outputs": [],
   "source": [
    "def next_greater_element_index(nums: list) -> list:\n",
    "    res = [0 for _ in nums]\n",
    "    stack = []\n",
    "    for i in range(len(nums)-1,-1, -1):\n",
    "        # stack is not empty\n",
    "        # ！stack存的是index，比较要nums[index]\n",
    "        while stack and nums[i] >= nums[stack[-1]]:\n",
    "            stack.pop() \n",
    "        #stack is empty    \n",
    "        if not stack:\n",
    "            res[i] = -1\n",
    "        else:\n",
    "            res[i] = stack[-1] - i\n",
    "        stack.append(i)\n",
    "    return res"
   ]
  },
  {
   "cell_type": "code",
   "execution_count": 12,
   "metadata": {},
   "outputs": [
    {
     "data": {
      "text/plain": [
       "[3, 1, 1, -1, -1]"
      ]
     },
     "execution_count": 12,
     "metadata": {},
     "output_type": "execute_result"
    }
   ],
   "source": [
    "next_greater_element_index([2,1,2,4,3])"
   ]
  },
  {
   "cell_type": "markdown",
   "metadata": {},
   "source": [
    "## Linkedlist"
   ]
  },
  {
   "cell_type": "code",
   "execution_count": 33,
   "metadata": {},
   "outputs": [],
   "source": [
    "class ListNode:\n",
    "\n",
    "    def __init__(self, val):\n",
    "        self.val = val\n",
    "        self.next = None\n",
    "\n",
    "\n",
    "class MyLinkedList:\n",
    "\n",
    "    def __init__(self):\n",
    "        self.head = None\n",
    "\n",
    "    def get(self, location):\n",
    "        cur = self.head\n",
    "        for i in range(location):\n",
    "            cur = cur.next\n",
    "        return cur.val\n",
    "\n",
    "    def add(self, location, val):\n",
    "        if location > 0:\n",
    "            pre = self.head\n",
    "            for i in range(location - 1):\n",
    "                pre = pre.next\n",
    "            new_node = ListNode(val)\n",
    "            new_node.next = pre.next\n",
    "            pre.next = new_node\n",
    "        elif location == 0:\n",
    "            new_node = ListNode(val)\n",
    "            new_node.next = self.head\n",
    "            self.head = new_node\n",
    "\n",
    "    def set(self, location, val):\n",
    "        cur = self.head\n",
    "        for i in range(location):\n",
    "            cur = cur.next\n",
    "        cur.val = val\n",
    "\n",
    "    def remove(self, location):\n",
    "        if location > 0:\n",
    "            pre = self.head\n",
    "            for i in range(location - 1):\n",
    "                pre = pre.next\n",
    "\n",
    "            pre.next = pre.next.next\n",
    "\n",
    "        elif location == 0:\n",
    "            self.head = self.head.next\n",
    "\n",
    "    def traverse(self):\n",
    "        cur = self.head\n",
    "        while cur is not None:\n",
    "            print(cur.val, end=' ')\n",
    "            cur = cur.next\n",
    "        print()\n",
    "\n",
    "    def is_empty(self):\n",
    "        return self.head is None"
   ]
  },
  {
   "cell_type": "code",
   "execution_count": 3,
   "metadata": {},
   "outputs": [],
   "source": [
    "ll = MyLinkedList()\n",
    "ll.add(0, 1)\n",
    "ll.add(1, 2)\n",
    "ll.add(2, 3)\n",
    "ll.add(3, 4)"
   ]
  },
  {
   "cell_type": "code",
   "execution_count": 62,
   "metadata": {},
   "outputs": [],
   "source": [
    "node1 = ListNode(1)\n",
    "node2 = ListNode(2)\n",
    "node3 = ListNode(3)\n",
    "node4 = ListNode(4)\n",
    "\n",
    "node1.next = node2\n",
    "node2.next = node3\n",
    "node3.next = node4\n"
   ]
  },
  {
   "cell_type": "code",
   "execution_count": 4,
   "metadata": {},
   "outputs": [],
   "source": [
    "def printLinkedList(head):\n",
    "    while head is not None:\n",
    "        print(head.val, end = ' ')\n",
    "        head = head.next\n",
    "    print('\\n')"
   ]
  },
  {
   "cell_type": "code",
   "execution_count": 32,
   "metadata": {},
   "outputs": [],
   "source": [
    "def get(head, location = 0):\n",
    "    for i in range(location):\n",
    "        head = head.next\n",
    "    print(head.val)    "
   ]
  },
  {
   "cell_type": "code",
   "execution_count": 34,
   "metadata": {},
   "outputs": [
    {
     "name": "stdout",
     "output_type": "stream",
     "text": [
      "3\n"
     ]
    }
   ],
   "source": [
    "get(node1,2)"
   ]
  },
  {
   "cell_type": "code",
   "execution_count": 132,
   "metadata": {},
   "outputs": [],
   "source": [
    "def reverseList(head: ListNode) -> ListNode:\n",
    "    # 递归\n",
    "    if not head or not head.next:\n",
    "        return head\n",
    "    last = reverseList(head.next)       \n",
    "    head.next.next = head\n",
    "    head.next = None\n",
    "    return last\n",
    "\n",
    "#     cur, prev = head, None\n",
    "#     while cur:\n",
    "#         cur.next, prev, cur = prev, cur, cur.next\n",
    "#     return pre\n",
    "            "
   ]
  },
  {
   "cell_type": "code",
   "execution_count": 31,
   "metadata": {},
   "outputs": [],
   "source": [
    "def reverseFirstN(head, N):\n",
    "    successor = ListNode(0)\n",
    "    return reverseFristNHelper(head,N,successor)\n",
    "    \n",
    "    \n",
    "def reverseFristNHelper(head,N,successor):\n",
    "    if N ==1:\n",
    "        successor.next = head.next\n",
    "        return head\n",
    "    newNode = reverseFristNHelper(head.next,N-1,successor)\n",
    "    head.next.next = head\n",
    "    head.next = successor.next\n",
    "    return newNode\n",
    "    \n",
    "\n",
    "    \n",
    "\n",
    "\n",
    "\n"
   ]
  },
  {
   "cell_type": "code",
   "execution_count": 32,
   "metadata": {},
   "outputs": [
    {
     "name": "stdout",
     "output_type": "stream",
     "text": [
      "2 1 3 4 \n",
      "\n"
     ]
    }
   ],
   "source": [
    "printLinkedList(reverseFirstN(node1,2))"
   ]
  },
  {
   "cell_type": "code",
   "execution_count": null,
   "metadata": {},
   "outputs": [],
   "source": [
    "class ListNode:\n",
    "\n",
    "    def __init__(self, val):\n",
    "        self.val = val\n",
    "        self.next = None\n",
    "\n",
    "def reverseFirstN(head, N):\n",
    "    successor = ListNode(0)\n",
    "    \n",
    "def helper(head, N, successor):\n",
    "    \n",
    "    "
   ]
  },
  {
   "cell_type": "code",
   "execution_count": 63,
   "metadata": {},
   "outputs": [],
   "source": [
    "successor = ListNode(0)\n",
    "def reverseFirstN(head, N):\n",
    "    if N == 1:\n",
    "        successor.next = head.next\n",
    "        return head\n",
    "    \n",
    "\n",
    "    newHead = reverseFirstN(head.next, N-1)\n",
    "    printLinkedList(newHead)\n",
    "    head.next.next = head\n",
    "    head.next = successor.next\n",
    "  \n",
    "    return newHead"
   ]
  },
  {
   "cell_type": "code",
   "execution_count": 55,
   "metadata": {},
   "outputs": [
    {
     "data": {
      "text/plain": [
       "[1, 2, 3]"
      ]
     },
     "execution_count": 55,
     "metadata": {},
     "output_type": "execute_result"
    }
   ],
   "source": [
    "nums = [1,2,3,4]\n",
    "nums[0:3]"
   ]
  },
  {
   "cell_type": "code",
   "execution_count": 64,
   "metadata": {},
   "outputs": [
    {
     "name": "stdout",
     "output_type": "stream",
     "text": [
      "====N:1======\n",
      "-successor.next\n",
      "4 \n",
      "\n",
      "-newHead\n",
      "3 4 \n",
      "\n",
      "-head\n",
      "2 3 4 \n",
      "\n",
      "====N:2======\n",
      "-successor.next\n",
      "4 \n",
      "\n",
      "-newHead\n",
      "3 2 4 \n",
      "\n",
      "-head\n",
      "2 4 \n",
      "\n",
      "-newHead\n",
      "3 2 4 \n",
      "\n",
      "-head\n",
      "1 2 4 \n",
      "\n",
      "====N:3======\n",
      "-successor.next\n",
      "4 \n",
      "\n",
      "-newHead\n",
      "3 2 1 4 \n",
      "\n",
      "-head\n",
      "1 4 \n",
      "\n",
      "3 2 1 4 \n",
      "\n"
     ]
    }
   ],
   "source": [
    "printLinkedList(reverseFirstN(node1,3))"
   ]
  },
  {
   "cell_type": "code",
   "execution_count": 92,
   "metadata": {},
   "outputs": [],
   "source": [
    "def run_linkedlist_example():\n",
    "    print('LinkedList example')\n",
    "    node_1 = ListNode(1)\n",
    "    node_2 = ListNode(3)\n",
    "    node_3 = ListNode(5)\n",
    "    node_4 = ListNode(7)\n",
    "\n",
    "    node_1.next = node_2\n",
    "    node_2.next = node_3\n",
    "    node_3.next = node_4\n",
    "\n",
    "    cur = node_1\n",
    "    while cur is not None:\n",
    "        print(cur.val, end=' ')\n",
    "        cur = cur.next\n",
    "    print('\\n')"
   ]
  },
  {
   "cell_type": "code",
   "execution_count": 95,
   "metadata": {},
   "outputs": [
    {
     "name": "stdout",
     "output_type": "stream",
     "text": [
      "LinkedList example\n",
      "1 3 5 7 \n",
      "\n"
     ]
    }
   ],
   "source": [
    "if __name__ == '__main__':\n",
    "    run_linkedlist_example()"
   ]
  },
  {
   "cell_type": "markdown",
   "metadata": {},
   "source": [
    "### 二叉树"
   ]
  },
  {
   "cell_type": "code",
   "execution_count": 65,
   "metadata": {},
   "outputs": [],
   "source": [
    "class TreeNode:\n",
    "    def __init__(self, val):\n",
    "        self.val = val\n",
    "        self.left = None\n",
    "        self.right = None"
   ]
  },
  {
   "cell_type": "code",
   "execution_count": 80,
   "metadata": {},
   "outputs": [],
   "source": [
    "def inorderTraverse(root):\n",
    "    if not root:\n",
    "        return\n",
    "    print(root.val)\n",
    "    inorderTraverse(root.left)\n",
    "    inorderTraverse(root.right)\n",
    "    \n"
   ]
  },
  {
   "cell_type": "code",
   "execution_count": 74,
   "metadata": {},
   "outputs": [
    {
     "name": "stdout",
     "output_type": "stream",
     "text": [
      "3\n",
      "1\n",
      "8\n"
     ]
    }
   ],
   "source": [
    "inorderTraverse(node)"
   ]
  },
  {
   "cell_type": "code",
   "execution_count": 71,
   "metadata": {},
   "outputs": [],
   "source": [
    "node = TreeNode(3)\n",
    "node.left = TreeNode(1)\n",
    "node.right = TreeNode(8)"
   ]
  },
  {
   "cell_type": "code",
   "execution_count": 67,
   "metadata": {},
   "outputs": [],
   "source": [
    "def traverse(root, ls):\n",
    "    if not root:\n",
    "        return ls\n",
    "    traverse(root.left, ls)\n",
    "    ls.append(root.val)\n",
    "    traverse(root.right, ls) \n",
    "    return ls"
   ]
  },
  {
   "cell_type": "code",
   "execution_count": 31,
   "metadata": {},
   "outputs": [],
   "source": [
    "node1 = TreeNode(1)\n",
    "node1.left = TreeNode(3)\n",
    "node1.right = TreeNode(8)"
   ]
  },
  {
   "cell_type": "code",
   "execution_count": 35,
   "metadata": {},
   "outputs": [],
   "source": [
    "# if both not: return true\n",
    "# if or not: return false\n",
    "# if !=: return false\n",
    "# return left, right\n",
    "\n",
    "def balance_tree(root1,root2):\n",
    "    if not root1 and root2:\n",
    "        return False\n",
    "    if not root2 and root1:\n",
    "        return False\n",
    "    if not root1 and not root2:\n",
    "        return\n",
    "    if root1.val == root2.val:\n",
    "        balance_tree(root1.left,root2.left)\n",
    "        balance_tree(root1.right,root2.right)\n",
    "    else:\n",
    "        return false\n",
    "    \n",
    "    return True\n"
   ]
  },
  {
   "cell_type": "markdown",
   "metadata": {},
   "source": [
    "### BST"
   ]
  },
  {
   "cell_type": "code",
   "execution_count": 75,
   "metadata": {},
   "outputs": [],
   "source": [
    "class TreeNode:\n",
    "\n",
    "    def __init__(self, val):\n",
    "        self.val = val\n",
    "        self.left = None\n",
    "        self.right = None"
   ]
  },
  {
   "cell_type": "code",
   "execution_count": 76,
   "metadata": {},
   "outputs": [],
   "source": [
    "class BST:\n",
    "    def __init__(self):\n",
    "        self.__root = None\n",
    "    def add(self, val):\n",
    "        self.__root = self.__add_helper(self.__root, val)\n",
    "\n",
    "    def __add_helper(self, root, val):\n",
    "        if not root:\n",
    "            return TreeNode(val)\n",
    "        if val < root.val:\n",
    "            root.left = self.__add_helper(root.left, val)\n",
    "        else:\n",
    "            root.right = self.__add_helper(root.right, val)\n",
    "        return root"
   ]
  },
  {
   "cell_type": "code",
   "execution_count": 77,
   "metadata": {},
   "outputs": [],
   "source": [
    "bst = BST()"
   ]
  },
  {
   "cell_type": "code",
   "execution_count": 79,
   "metadata": {},
   "outputs": [],
   "source": [
    "bst.add(10)\n",
    "bst.add(8)\n",
    "bst.add(9)"
   ]
  },
  {
   "cell_type": "code",
   "execution_count": 81,
   "metadata": {},
   "outputs": [
    {
     "ename": "AttributeError",
     "evalue": "'BST' object has no attribute 'val'",
     "output_type": "error",
     "traceback": [
      "\u001b[0;31m---------------------------------------------------------------------------\u001b[0m",
      "\u001b[0;31mAttributeError\u001b[0m                            Traceback (most recent call last)",
      "\u001b[0;32m<ipython-input-81-3c318ac46d8f>\u001b[0m in \u001b[0;36m<module>\u001b[0;34m\u001b[0m\n\u001b[0;32m----> 1\u001b[0;31m \u001b[0minorderTraverse\u001b[0m\u001b[0;34m(\u001b[0m\u001b[0mbst\u001b[0m\u001b[0;34m)\u001b[0m\u001b[0;34m\u001b[0m\u001b[0;34m\u001b[0m\u001b[0m\n\u001b[0m",
      "\u001b[0;32m<ipython-input-80-e3282cc04c6c>\u001b[0m in \u001b[0;36minorderTraverse\u001b[0;34m(root)\u001b[0m\n\u001b[1;32m      2\u001b[0m     \u001b[0;32mif\u001b[0m \u001b[0;32mnot\u001b[0m \u001b[0mroot\u001b[0m\u001b[0;34m:\u001b[0m\u001b[0;34m\u001b[0m\u001b[0;34m\u001b[0m\u001b[0m\n\u001b[1;32m      3\u001b[0m         \u001b[0;32mreturn\u001b[0m\u001b[0;34m\u001b[0m\u001b[0;34m\u001b[0m\u001b[0m\n\u001b[0;32m----> 4\u001b[0;31m     \u001b[0mprint\u001b[0m\u001b[0;34m(\u001b[0m\u001b[0mroot\u001b[0m\u001b[0;34m.\u001b[0m\u001b[0mval\u001b[0m\u001b[0;34m)\u001b[0m\u001b[0;34m\u001b[0m\u001b[0;34m\u001b[0m\u001b[0m\n\u001b[0m\u001b[1;32m      5\u001b[0m     \u001b[0minorderTraverse\u001b[0m\u001b[0;34m(\u001b[0m\u001b[0mroot\u001b[0m\u001b[0;34m.\u001b[0m\u001b[0mleft\u001b[0m\u001b[0;34m)\u001b[0m\u001b[0;34m\u001b[0m\u001b[0;34m\u001b[0m\u001b[0m\n\u001b[1;32m      6\u001b[0m     \u001b[0minorderTraverse\u001b[0m\u001b[0;34m(\u001b[0m\u001b[0mroot\u001b[0m\u001b[0;34m.\u001b[0m\u001b[0mright\u001b[0m\u001b[0;34m)\u001b[0m\u001b[0;34m\u001b[0m\u001b[0;34m\u001b[0m\u001b[0m\n",
      "\u001b[0;31mAttributeError\u001b[0m: 'BST' object has no attribute 'val'"
     ]
    }
   ],
   "source": [
    "inorderTraverse(bst)"
   ]
  },
  {
   "cell_type": "code",
   "execution_count": null,
   "metadata": {},
   "outputs": [],
   "source": [
    "def isInBST(root,target):\n",
    "    if not root:\n",
    "        return False\n",
    "    if root.val = target:\n",
    "        return True\n",
    "    return isInBST(root.left) or isImBST(root.right)"
   ]
  },
  {
   "cell_type": "code",
   "execution_count": null,
   "metadata": {},
   "outputs": [],
   "source": [
    "def deleteNode(root, target):\n",
    "    if root.val == target:\n",
    "        # find\n",
    "        if not root.left and not root.right:\n",
    "            return null\n",
    "        if not root.left:\n",
    "            return root.right\n",
    "        if not root.right:\n",
    "            return root.left\n",
    "        if root.left and root.right:\n",
    "            \n",
    "        \n",
    "            \n",
    "            \n",
    "    if root.val > target:\n",
    "        deleteNode(root.right, target)\n",
    "    if root.val < target:\n",
    "        deleteNode(root.left, target)"
   ]
  },
  {
   "cell_type": "code",
   "execution_count": null,
   "metadata": {},
   "outputs": [],
   "source": []
  },
  {
   "cell_type": "code",
   "execution_count": null,
   "metadata": {},
   "outputs": [],
   "source": []
  },
  {
   "cell_type": "code",
   "execution_count": null,
   "metadata": {},
   "outputs": [],
   "source": []
  },
  {
   "cell_type": "code",
   "execution_count": null,
   "metadata": {},
   "outputs": [],
   "source": []
  },
  {
   "cell_type": "code",
   "execution_count": null,
   "metadata": {},
   "outputs": [],
   "source": []
  },
  {
   "cell_type": "code",
   "execution_count": null,
   "metadata": {},
   "outputs": [],
   "source": []
  }
 ],
 "metadata": {
  "kernelspec": {
   "display_name": "Python 3",
   "language": "python",
   "name": "python3"
  },
  "language_info": {
   "codemirror_mode": {
    "name": "ipython",
    "version": 3
   },
   "file_extension": ".py",
   "mimetype": "text/x-python",
   "name": "python",
   "nbconvert_exporter": "python",
   "pygments_lexer": "ipython3",
   "version": "3.7.4"
  }
 },
 "nbformat": 4,
 "nbformat_minor": 2
}
